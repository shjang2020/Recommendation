{
 "cells": [
  {
   "cell_type": "markdown",
   "metadata": {},
   "source": [
    "### 1. 협업 필터링 (Collaborative Filtering)"
   ]
  },
  {
   "cell_type": "markdown",
   "metadata": {},
   "source": [
    "1) 협업 필터링이란?\n",
    "- 사용자 행동 패턴을 기반으로 새로운 아이템을 추천하는 방식\n",
    "- 주어진 데이터가 사용자-아이템 상호작용 데이터(User-Item Interaction Matrix)인 경우\n",
    "\n",
    "2) 협업필터링의 종류\n",
    "- 사용자 기반(User-Based) 협업 필터링\n",
    "- 아이템 기반(Item-Based) 협업 필터링"
   ]
  },
  {
   "cell_type": "markdown",
   "metadata": {},
   "source": [
    "#### 1-1. 사용자 기반 협업 필터링 구현"
   ]
  },
  {
   "cell_type": "code",
   "execution_count": 1,
   "metadata": {},
   "outputs": [
    {
     "name": "stdout",
     "output_type": "stream",
     "text": [
      "🔹 사용자-아이템 행렬:\n",
      "         Item A  Item B  Item C  Item D\n",
      "User 1       5       3       0       1\n",
      "User 2       4       0       4       2\n",
      "User 3       1       1       0       5\n",
      "User 4       0       0       4       4\n",
      "\n",
      "\n",
      "🔹 사용자 간 유사도:\n",
      "           User 1    User 2    User 3    User 4\n",
      "User 1  1.000000  0.619780  0.422890  0.119523\n",
      "User 2  0.619780  1.000000  0.449050  0.707107\n",
      "User 3  0.422890  0.449050  1.000000  0.680414\n",
      "User 4  0.119523  0.707107  0.680414  1.000000\n",
      "\n",
      "\n",
      "🔹 User 1과 가장 유사한 사용자: User 2\n",
      "\n",
      "\n",
      "🔹 User 1에게 추천할 아이템:\n",
      " Item C    4\n",
      "Name: User 2, dtype: int64\n"
     ]
    }
   ],
   "source": [
    "import numpy as np\n",
    "import pandas as pd\n",
    "from sklearn.metrics.pairwise import cosine_similarity\n",
    "\n",
    "# 사용자-아이템 평점 데이터 생성\n",
    "ratings = pd.DataFrame([\n",
    "    [5, 3, 0, 1],\n",
    "    [4, 0, 4, 2],\n",
    "    [1, 1, 0, 5],\n",
    "    [0, 0, 4, 4]\n",
    "], index=[\"User 1\", \"User 2\", \"User 3\", \"User 4\"],\n",
    "   columns=[\"Item A\", \"Item B\", \"Item C\", \"Item D\"])\n",
    "\n",
    "print(\"🔹 사용자-아이템 행렬:\\n\", ratings)\n",
    "print(\"\\n\")\n",
    "\n",
    "# 사용자 간 유사도 계산 (코사인 유사도)\n",
    "user_similarity = cosine_similarity(ratings.fillna(0))\n",
    "user_sim_df = pd.DataFrame(user_similarity, index=ratings.index, columns=ratings.index)\n",
    "\n",
    "print(\"🔹 사용자 간 유사도:\\n\", user_sim_df)\n",
    "print(\"\\n\")\n",
    "\n",
    "# User 1과 가장 유사한 사용자 찾기\n",
    "similar_users = user_sim_df[\"User 1\"].sort_values(ascending=False)[1:]\n",
    "print(\"🔹 User 1과 가장 유사한 사용자:\", similar_users.idxmax())\n",
    "print(\"\\n\")\n",
    "\n",
    "# 가장 유사한 사용자의 아이템 추천\n",
    "most_similar_user = similar_users.idxmax()\n",
    "recommended_items = ratings.loc[most_similar_user][ratings.loc[\"User 1\"] == 0].sort_values(ascending=False)\n",
    "print(\"🔹 User 1에게 추천할 아이템:\\n\", recommended_items)"
   ]
  },
  {
   "cell_type": "markdown",
   "metadata": {},
   "source": [
    "#### 1-2. 아이템 기반 협업 필터링 구현"
   ]
  },
  {
   "cell_type": "code",
   "execution_count": 2,
   "metadata": {},
   "outputs": [
    {
     "name": "stdout",
     "output_type": "stream",
     "text": [
      "🔹 아이템 간 유사도:\n",
      "           Item A    Item B    Item C    Item D\n",
      "Item A  1.000000  0.780720  0.436436  0.409514\n",
      "Item B  0.780720  1.000000  0.000000  0.373002\n",
      "Item C  0.436436  0.000000  1.000000  0.625543\n",
      "Item D  0.409514  0.373002  0.625543  1.000000\n",
      "\n",
      "\n",
      "🔹 'Item C'와 유사한 아이템:\n",
      " Item D\n"
     ]
    }
   ],
   "source": [
    "# 아이템 간 유사도 계산\n",
    "item_similarity = cosine_similarity(ratings.T.fillna(0))\n",
    "item_sim_df = pd.DataFrame(item_similarity, index=ratings.columns, columns=ratings.columns)\n",
    "\n",
    "print(\"🔹 아이템 간 유사도:\\n\", item_sim_df)\n",
    "print(\"\\n\")\n",
    "\n",
    "# 특정 아이템과 유사한 아이템 찾기\n",
    "target_item = \"Item C\"\n",
    "similar_items = item_sim_df[target_item].sort_values(ascending=False)[1:]\n",
    "\n",
    "print(f\"🔹 '{target_item}'와 유사한 아이템:\\n\", similar_items.idxmax())"
   ]
  },
  {
   "cell_type": "markdown",
   "metadata": {},
   "source": [
    "### 2. 행렬 분해(Matrix Factorization) 기반 추천 시스템"
   ]
  },
  {
   "cell_type": "markdown",
   "metadata": {},
   "source": [
    "#### 1) 행렬 분해(Matrix Factorization, MF)란?\n",
    "- 사용자-아이템 행렬을 저차원 벡터로 분해하여 잠재 요인(Latent Factors)을 학습하는 방법.\n",
    "\n",
    "✅ 주요 행렬 분해 알고리즘\n",
    "\n",
    "- SVD (Singular Value Decomposition) : 가장 기본적인 행렬 분해 방식\n",
    "- NMF (Non-negative Matrix Factorization) : 음수가 없는 데이터에서 유용\n",
    "- ALS (Alternating Least Squares) : 대규모 데이터에서 강력한 성능\n",
    "- Deep Learning 기반 행렬 분해 : 신경망을 활용한 확장된 방법"
   ]
  },
  {
   "cell_type": "markdown",
   "metadata": {},
   "source": [
    "#### 2-1. SVD"
   ]
  },
  {
   "cell_type": "markdown",
   "metadata": {},
   "source": [
    "##### SVD 추천 방식"
   ]
  },
  {
   "cell_type": "code",
   "execution_count": 4,
   "metadata": {},
   "outputs": [],
   "source": [
    "import numpy as np\n",
    "from sklearn.decomposition import TruncatedSVD\n",
    "\n",
    "# 사용자-아이템 행렬 (예제 데이터)\n",
    "R = np.array([\n",
    "    [5, 3, 0, 1],\n",
    "    [4, 0, 0, 1],\n",
    "    [1, 1, 0, 5],\n",
    "    [1, 0, 0, 4],\n",
    "    [0, 1, 5, 4],\n",
    "])\n",
    "\n",
    "# SVD 행렬 분해 (2개의 잠재 요인 사용)\n",
    "svd = TruncatedSVD(n_components=2)\n",
    "U = svd.fit_transform(R)  # 사용자 잠재 요인 행렬\n",
    "Sigma = np.diag(svd.singular_values_)  # 특이값 행렬\n",
    "V = svd.components_  # 아이템 잠재 요인 행렬"
   ]
  },
  {
   "cell_type": "code",
   "execution_count": 5,
   "metadata": {},
   "outputs": [
    {
     "data": {
      "text/plain": [
       "array([[ 3.94592157,  4.16887476],\n",
       "       [ 2.68400116,  2.76010383],\n",
       "       [ 4.65943967, -0.84914207],\n",
       "       [ 3.61265495, -0.69003845],\n",
       "       [ 4.90266747, -3.55087873]])"
      ]
     },
     "execution_count": 5,
     "metadata": {},
     "output_type": "execute_result"
    }
   ],
   "source": [
    "U"
   ]
  },
  {
   "cell_type": "code",
   "execution_count": 6,
   "metadata": {},
   "outputs": [
    {
     "data": {
      "text/plain": [
       "array([[9.03171974, 0.        ],\n",
       "       [0.        , 6.22925557]])"
      ]
     },
     "execution_count": 6,
     "metadata": {},
     "output_type": "execute_result"
    }
   ],
   "source": [
    "Sigma"
   ]
  },
  {
   "cell_type": "code",
   "execution_count": 7,
   "metadata": {},
   "outputs": [
    {
     "data": {
      "text/plain": [
       "array([[ 0.47488998,  0.26234348,  0.3005118 ,  0.78444124],\n",
       "       [ 0.78203025,  0.20891356, -0.45754472, -0.36801718]])"
      ]
     },
     "execution_count": 7,
     "metadata": {},
     "output_type": "execute_result"
    }
   ],
   "source": [
    "V"
   ]
  },
  {
   "cell_type": "code",
   "execution_count": 8,
   "metadata": {},
   "outputs": [
    {
     "name": "stdout",
     "output_type": "stream",
     "text": [
      "=== SVD 추천 예측 행렬 ===\n",
      "[[37.23 14.77 -1.17 18.4 ]\n",
      " [24.96  9.95 -0.58 12.69]\n",
      " [15.85  9.94 15.07 34.96]\n",
      " [12.13  7.66 11.77 27.18]\n",
      " [ 3.73  7.   23.43 42.87]]\n"
     ]
    }
   ],
   "source": [
    "# 예측 평점 행렬 복원\n",
    "R_pred = np.dot(np.dot(U, Sigma), V)\n",
    "print(\"=== SVD 추천 예측 행렬 ===\")\n",
    "print(np.round(R_pred, 2))"
   ]
  },
  {
   "cell_type": "markdown",
   "metadata": {},
   "source": [
    "##### 라이브러리 활용"
   ]
  },
  {
   "cell_type": "code",
   "execution_count": 3,
   "metadata": {},
   "outputs": [
    {
     "name": "stdout",
     "output_type": "stream",
     "text": [
      "Evaluating RMSE, MAE of algorithm SVD on 5 split(s).\n",
      "\n",
      "                  Fold 1  Fold 2  Fold 3  Fold 4  Fold 5  Mean    Std     \n",
      "RMSE (testset)    0.1893  0.9003  1.2347  1.3547  0.6978  0.8753  0.4152  \n",
      "MAE (testset)     0.1619  0.8871  1.2272  1.0344  0.6123  0.7846  0.3705  \n",
      "Fit time          0.00    0.00    0.00    0.00    0.00    0.00    0.00    \n",
      "Test time         0.00    0.00    0.00    0.00    0.00    0.00    0.00    \n"
     ]
    },
    {
     "data": {
      "text/plain": [
       "{'test_rmse': array([0.18928193, 0.90025861, 1.23467293, 1.35472279, 0.69778086]),\n",
       " 'test_mae': array([0.16187875, 0.88710515, 1.22716039, 1.03439743, 0.61230039]),\n",
       " 'fit_time': (0.0, 0.0, 0.0, 0.0, 0.0),\n",
       " 'test_time': (0.0, 0.0, 0.0, 0.0, 0.0)}"
      ]
     },
     "execution_count": 3,
     "metadata": {},
     "output_type": "execute_result"
    }
   ],
   "source": [
    "import pandas as pd\n",
    "from surprise import SVD, Dataset, Reader\n",
    "from surprise.model_selection import cross_validate, train_test_split\n",
    "\n",
    "# 데이터 준비\n",
    "ratings_dict = {\n",
    "    \"userID\": [1, 1, 1, 2, 2, 3, 3, 4, 4, 4],\n",
    "    \"itemID\": [1, 2, 3, 1, 3, 2, 3, 1, 2, 3],\n",
    "    \"rating\": [5, 3, 4, 4, 5, 2, 3, 5, 4, 4]\n",
    "}\n",
    "df = pd.DataFrame(ratings_dict)\n",
    "reader = Reader(rating_scale=(1, 5))\n",
    "data = Dataset.load_from_df(df[['userID', 'itemID', 'rating']], reader)\n",
    "\n",
    "# 데이터 분할 (훈련/테스트)\n",
    "trainset, testset = train_test_split(data, test_size=0.2)\n",
    "\n",
    "# SVD 모델 학습\n",
    "model = SVD(n_factors=10, n_epochs=20, lr_all=0.005, reg_all=0.02)\n",
    "model.fit(trainset)\n",
    "\n",
    "# 예측 수행\n",
    "predictions = model.test(testset)\n",
    "\n",
    "# 평가\n",
    "cross_validate(model, data, cv=5, verbose=True)"
   ]
  },
  {
   "cell_type": "markdown",
   "metadata": {},
   "source": [
    "- SVD를 사용한 특정 사용자에게 추천"
   ]
  },
  {
   "cell_type": "code",
   "execution_count": 4,
   "metadata": {},
   "outputs": [
    {
     "name": "stdout",
     "output_type": "stream",
     "text": [
      "🔹 사용자 1에게 추천할 아이템:\n",
      "아이템 1 | 예상 평점: 4.25\n",
      "아이템 3 | 예상 평점: 4.06\n",
      "아이템 2 | 예상 평점: 3.74\n"
     ]
    }
   ],
   "source": [
    "# 특정 사용자에게 추천 수행\n",
    "user_id = 1\n",
    "item_ids = df['itemID'].unique()\n",
    "preds = [model.predict(user_id, iid) for iid in item_ids]\n",
    "\n",
    "# 예측 평점이 높은 순으로 정렬\n",
    "sorted_preds = sorted(preds, key=lambda x:x.est, reverse=True)\n",
    "\n",
    "# 추천 아이템 출력\n",
    "print(\"🔹 사용자 1에게 추천할 아이템:\")\n",
    "for pred in sorted_preds:\n",
    "    print(f\"아이템 {pred.iid} | 예상 평점: {pred.est:.2f}\")"
   ]
  },
  {
   "cell_type": "markdown",
   "metadata": {},
   "source": [
    "#### 2-2. ALS (Alternating Least Squares)"
   ]
  },
  {
   "cell_type": "markdown",
   "metadata": {},
   "source": [
    "ALS는 교대 최소제곱법(Alternating Least Squares)을 이용하여 사용자 행렬과 아이템 행렬을 최적화 하는 방식입니다."
   ]
  },
  {
   "cell_type": "markdown",
   "metadata": {},
   "source": [
    "##### ALS 추천 방식"
   ]
  },
  {
   "cell_type": "code",
   "execution_count": 9,
   "metadata": {},
   "outputs": [
    {
     "name": "stdout",
     "output_type": "stream",
     "text": [
      "=== ALS 추천 예측 행렬 ===\n",
      "[[ 5.13  1.9  -0.72  1.56]\n",
      " [ 3.43  1.28 -0.46  1.09]\n",
      " [ 1.55  1.05  1.79  3.96]\n",
      " [ 1.18  0.8   1.4   3.09]\n",
      " [-0.45  0.54  3.1   5.15]]\n"
     ]
    }
   ],
   "source": [
    "def als_recommendation(R, num_features=2, iterations=10, alpha=0.01):\n",
    "    num_users, num_items = R.shape\n",
    "    U = np.random.rand(num_users, num_features)  # 사용자 행렬 초기화\n",
    "    V = np.random.rand(num_items, num_features)  # 아이템 행렬 초기화\n",
    "\n",
    "    for _ in range(iterations):\n",
    "        # U 업데이트: V를 고정하고 최적화\n",
    "        for i in range(num_users):\n",
    "            U[i] = np.linalg.solve(np.dot(V.T, V) + alpha * np.eye(num_features), np.dot(V.T, R[i, :].T))\n",
    "\n",
    "        # V 업데이트: U를 고정하고 최적화\n",
    "        for j in range(num_items):\n",
    "            V[j] = np.linalg.solve(np.dot(U.T, U) + alpha * np.eye(num_features), np.dot(U.T, R[:, j]))\n",
    "\n",
    "    # 예측 행렬 복원\n",
    "    R_pred = np.dot(U, V.T)\n",
    "    return R_pred\n",
    "\n",
    "# ALS 추천 결과 계산\n",
    "R_als_pred = als_recommendation(R)\n",
    "\n",
    "print(\"=== ALS 추천 예측 행렬 ===\")\n",
    "print(np.round(R_als_pred, 2))"
   ]
  },
  {
   "cell_type": "markdown",
   "metadata": {},
   "source": [
    "##### 라이브러리 활용한 암묵적 피드백 기반 추천 (Implicit 라이브러리)"
   ]
  },
  {
   "cell_type": "code",
   "execution_count": 6,
   "metadata": {},
   "outputs": [
    {
     "name": "stderr",
     "output_type": "stream",
     "text": [
      "c:\\Users\\Seonghyeon\\anaconda3\\envs\\main\\Lib\\site-packages\\tqdm\\auto.py:21: TqdmWarning: IProgress not found. Please update jupyter and ipywidgets. See https://ipywidgets.readthedocs.io/en/stable/user_install.html\n",
      "  from .autonotebook import tqdm as notebook_tqdm\n",
      "c:\\Users\\Seonghyeon\\anaconda3\\envs\\main\\Lib\\site-packages\\implicit\\cpu\\als.py:95: RuntimeWarning: Intel MKL BLAS is configured to use 8 threads. It is highly recommended to disable its internal threadpool by setting the environment variable 'MKL_NUM_THREADS=1' or by callng 'threadpoolctl.threadpool_limits(1, \"blas\")'. Having MKL use a threadpool can lead to severe performance issues\n",
      "  check_blas_config()\n",
      "100%|██████████| 20/20 [00:00<00:00, 2652.86it/s]"
     ]
    },
    {
     "name": "stdout",
     "output_type": "stream",
     "text": [
      "🔹 사용자 1에게 추천할 아이템: (array([2, 1, 0]), array([ 3.2506272e-02,  2.7917266e-02, -3.4028235e+38], dtype=float32))\n"
     ]
    },
    {
     "name": "stderr",
     "output_type": "stream",
     "text": [
      "\n"
     ]
    }
   ],
   "source": [
    "import numpy as np\n",
    "from scipy.sparse import csr_matrix\n",
    "from implicit.als import AlternatingLeastSquares\n",
    "\n",
    "# 🎯 사용자-아이템 상호작용 데이터\n",
    "user_item_matrix = np.array([\n",
    "    [5, 0, 3, 0, 2],  \n",
    "    [4, 0, 0, 1, 3],  \n",
    "    [1, 1, 0, 5, 0],  \n",
    "    [0, 0, 4, 4, 0]   \n",
    "])\n",
    "\n",
    "# 🎯 희소 행렬 변환\n",
    "sparse_matrix = csr_matrix(user_item_matrix)\n",
    "\n",
    "# 🎯 ALS 모델 학습\n",
    "als_model = AlternatingLeastSquares(factors=10, regularization=0.1, iterations=20)\n",
    "als_model.fit(sparse_matrix)\n",
    "\n",
    "# 🎯 사용자 1에게 추천 수행\n",
    "user_id = 1\n",
    "recommendations = als_model.recommend(user_id, sparse_matrix[user_id], N=3)\n",
    "print(\"🔹 사용자 1에게 추천할 아이템:\", recommendations)"
   ]
  },
  {
   "cell_type": "markdown",
   "metadata": {},
   "source": [
    "#### 2-3. NMF (Non-negative Matrix Factorization) 기반 추천"
   ]
  },
  {
   "cell_type": "markdown",
   "metadata": {},
   "source": [
    "SVD는 음수 값을 허용하지만, NMF는 음수를 허용하지 않고 해석 가능성이 높은 행렬 분해 방식입니다."
   ]
  },
  {
   "cell_type": "markdown",
   "metadata": {},
   "source": [
    "##### NMF 추천 방식"
   ]
  },
  {
   "cell_type": "code",
   "execution_count": 10,
   "metadata": {},
   "outputs": [
    {
     "name": "stdout",
     "output_type": "stream",
     "text": [
      "=== NNMF 추천 예측 행렬 ===\n",
      "[[5.26 1.99 0.   1.46]\n",
      " [3.5  1.33 0.   0.97]\n",
      " [1.31 0.94 1.95 3.95]\n",
      " [0.98 0.72 1.53 3.08]\n",
      " [0.   0.65 2.84 5.22]]\n"
     ]
    }
   ],
   "source": [
    "from sklearn.decomposition import NMF\n",
    "\n",
    "# NNMF 모델 적용 (2개의 잠재 요인 사용)\n",
    "nmf = NMF(n_components=2, init='random', random_state=42)\n",
    "U_nnmf = nmf.fit_transform(R)  # 사용자 잠재 요인 행렬\n",
    "V_nnmf = nmf.components_  # 아이템 잠재 요인 행렬\n",
    "\n",
    "# 예측 행렬 복원\n",
    "R_nnmf_pred = np.dot(U_nnmf, V_nnmf)\n",
    "\n",
    "print(\"=== NNMF 추천 예측 행렬 ===\")\n",
    "print(np.round(R_nnmf_pred, 2))"
   ]
  },
  {
   "cell_type": "markdown",
   "metadata": {},
   "source": [
    "##### 평가"
   ]
  },
  {
   "cell_type": "code",
   "execution_count": null,
   "metadata": {},
   "outputs": [
    {
     "name": "stdout",
     "output_type": "stream",
     "text": [
      "Evaluating RMSE, MAE of algorithm NMF on 5 split(s).\n",
      "\n",
      "                  Fold 1  Fold 2  Fold 3  Fold 4  Fold 5  Mean    Std     \n",
      "RMSE (testset)    1.3832  0.9014  1.4583  2.0487  0.5627  1.2709  0.5081  \n",
      "MAE (testset)     1.2868  0.7500  1.4570  1.9025  0.4546  1.1702  0.5140  \n",
      "Fit time          0.00    0.00    0.00    0.00    0.00    0.00    0.00    \n",
      "Test time         0.00    0.00    0.00    0.00    0.00    0.00    0.00    \n"
     ]
    },
    {
     "data": {
      "text/plain": [
       "{'test_rmse': array([1.38320264, 0.90138782, 1.45830882, 2.04874654, 0.56274335]),\n",
       " 'test_mae': array([1.28683208, 0.75      , 1.45700357, 1.90252556, 0.45459099]),\n",
       " 'fit_time': (0.0, 0.0, 0.0, 0.0, 0.001039743423461914),\n",
       " 'test_time': (0.0, 0.0, 0.0, 0.0, 0.0)}"
      ]
     },
     "metadata": {},
     "output_type": "display_data"
    }
   ],
   "source": [
    "from surprise import NMF\n",
    "\n",
    "# NMF 모델 생성 및 학습\n",
    "nmf_model = NMF(n_factors=10, n_epochs=20)\n",
    "nmf_model.fit(trainset)\n",
    "\n",
    "# 평가\n",
    "cross_validate(nmf_model, data, cv=5, verbose=True)\n",
    "\n",
    "# ✅ NMF는 음수 값을 허용하지 않아 해석 가능성이 높음.\n",
    "# ✅ SVD보다 결과 해석이 용이하지만, 데이터 특성에 따라 성능이 다를 수 있음."
   ]
  },
  {
   "cell_type": "markdown",
   "metadata": {},
   "source": [
    "### 3. 성능 평가 및 모델 비교"
   ]
  },
  {
   "cell_type": "markdown",
   "metadata": {},
   "source": [
    "#### 📌 추천 시스템 평가 지표\n",
    "- RMSE (Root Mean Squared Error) : 예측 평점과 실제 평점 간의 차이\n",
    "- Precision@K : 추천한 아이템 중 사용자가 실제로 소비한 아이템 비율\n",
    "- Recall@K : 사용자가 소비한 아이템 중 추천한 아이템 비율"
   ]
  },
  {
   "cell_type": "code",
   "execution_count": null,
   "metadata": {},
   "outputs": [
    {
     "name": "stdout",
     "output_type": "stream",
     "text": [
      "RMSE: 0.8517\n",
      "🔹 RMSE: 0.8517\n"
     ]
    }
   ],
   "source": [
    "from surprise import accuracy\n",
    "rmse = accuracy.rmse(predictions)\n",
    "print(f\"🔹 RMSE: {rmse:.4f}\")\n",
    "\n",
    "# ✅ RMSE 값이 작을수록 추천 성능이 좋음.\n",
    "# ✅ Precision@K, Recall@K를 활용하여 다양한 관점에서 평가 가능."
   ]
  },
  {
   "cell_type": "markdown",
   "metadata": {},
   "source": [
    "#### cf) Pytorch 기반 사용자-아이템 협업 필터링"
   ]
  },
  {
   "cell_type": "code",
   "execution_count": null,
   "metadata": {},
   "outputs": [],
   "source": [
    "import numpy as np\n",
    "import torch\n",
    "import torch.nn as nn\n",
    "import torch.optim as optim\n",
    "from torch.utils.data import Dataset, DataLoader\n",
    "\n",
    "# 사용자-아이템 평점 데이터\n",
    "ratings = np.array([\n",
    "    [1,1,5],\n",
    "    [1,2,3],\n",
    "    [2,1,4],\n",
    "    [2,3,5],\n",
    "    [3,2,2],\n",
    "    [3,3,3],\n",
    "    [4,1,5],\n",
    "    [4,2,4]\n",
    "])\n",
    "\n",
    "# Pytorch Dataset 생성\n",
    "class RatingDataset(Dataset):\n",
    "    def __init__(self, ratings):\n",
    "        self.users = torch.tensor(ratings[:,0]-1, dtype=torch.long) # 사용자 ID (0부터 시작)\n",
    "        self.items = torch.tensor(ratings[:,1]-1, dtype=torch.long) # 아이템템 ID (0부터 시작)\n",
    "        self.ratings = torch.tensor(ratings[:,2], dtype=torch.float32)\n",
    "    \n",
    "    def __len__(self):\n",
    "        return len(self.ratings)\n",
    "    \n",
    "    def __getitem__(self, idx):\n",
    "        return self.users[idx], self.items[idx], self.ratings[idx]\n",
    "\n",
    "dataset = RatingDataset(ratings)\n",
    "dataloader = DataLoader(dataset, batch_size=4, shuffle=True)"
   ]
  },
  {
   "cell_type": "code",
   "execution_count": 15,
   "metadata": {},
   "outputs": [
    {
     "name": "stdout",
     "output_type": "stream",
     "text": [
      "Epoch 1, Loss: 19.4707\n",
      "Epoch 2, Loss: 17.6865\n",
      "Epoch 3, Loss: 25.6540\n",
      "Epoch 4, Loss: 16.0960\n",
      "Epoch 5, Loss: 29.6430\n",
      "Epoch 6, Loss: 4.2679\n",
      "Epoch 7, Loss: 19.5744\n",
      "Epoch 8, Loss: 18.5817\n",
      "Epoch 9, Loss: 16.1084\n",
      "Epoch 10, Loss: 15.1465\n"
     ]
    }
   ],
   "source": [
    "# Pytorch 협업 필터링 모델 정의\n",
    "class MatrixFactorization(nn.Module):\n",
    "    def __init__(self, num_users, num_items, embedding_dim = 10):\n",
    "        super(MatrixFactorization, self).__init__()\n",
    "        self.user_embedding = nn.Embedding(num_users, embedding_dim)\n",
    "        self.item_embedding = nn.Embedding(num_items, embedding_dim)\n",
    "        \n",
    "    def forward(self, user, item):\n",
    "        user_embedded = self.user_embedding(user)\n",
    "        item_embedded = self.item_embedding(item)\n",
    "        return (user_embedded * item_embedded).sum(1)\n",
    "\n",
    "# 사용자 수와 아이템 수 계산\n",
    "num_users = int(ratings[:, 0].max())\n",
    "num_items = int(ratings[:, 1].max())\n",
    "\n",
    "# 모델 초기화\n",
    "model = MatrixFactorization(num_users, num_items)\n",
    "\n",
    "# 🎯 4️⃣ 모델 학습\n",
    "criterion = nn.MSELoss()\n",
    "optimizer = optim.Adam(model.parameters(), lr=0.01)\n",
    "\n",
    "num_epochs = 10\n",
    "for epoch in range(num_epochs):\n",
    "    for users, items, ratings in dataloader:\n",
    "        optimizer.zero_grad()\n",
    "        outputs = model(users, items)\n",
    "        loss = criterion(outputs, ratings)\n",
    "        loss.backward()\n",
    "        optimizer.step()\n",
    "    print(f\"Epoch {epoch+1}, Loss: {loss.item():.4f}\")"
   ]
  },
  {
   "cell_type": "code",
   "execution_count": 16,
   "metadata": {},
   "outputs": [
    {
     "name": "stdout",
     "output_type": "stream",
     "text": [
      "사용자 1이 아이템 2에 대한 예상 평점: 2.79\n"
     ]
    }
   ],
   "source": [
    "# 🎯 5️⃣ 추천 예측\n",
    "user_id = torch.tensor([0])\n",
    "item_id = torch.tensor([1])\n",
    "predicted_rating = model(user_id, item_id).item()\n",
    "print(f\"사용자 1이 아이템 2에 대한 예상 평점: {predicted_rating:.2f}\")"
   ]
  }
 ],
 "metadata": {
  "kernelspec": {
   "display_name": "base",
   "language": "python",
   "name": "python3"
  },
  "language_info": {
   "codemirror_mode": {
    "name": "ipython",
    "version": 3
   },
   "file_extension": ".py",
   "mimetype": "text/x-python",
   "name": "python",
   "nbconvert_exporter": "python",
   "pygments_lexer": "ipython3",
   "version": "3.12.4"
  }
 },
 "nbformat": 4,
 "nbformat_minor": 2
}
