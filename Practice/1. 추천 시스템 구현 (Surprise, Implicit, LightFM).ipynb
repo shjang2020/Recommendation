{
 "cells": [
  {
   "cell_type": "markdown",
   "metadata": {},
   "source": [
    "### 추천시스템 구현\n",
    "\n",
    "1. Surprise -> 협업 필터링(Matrix Factorization 기반 추천)\n",
    "2. Implicit -> Implicit Feedback 기반 추천 (ALS, BPR 모델)\n",
    "3. LightFM -> Hybrid Recommendation (협업 + 콘텐츠 기반 추천)"
   ]
  },
  {
   "cell_type": "markdown",
   "metadata": {},
   "source": [
    "### STEP 1 : Surprise 활용한 협업 필터링 추천"
   ]
  },
  {
   "cell_type": "markdown",
   "metadata": {},
   "source": [
    "Surprise 라이브러리는 사용자-아이템 평점 데이터 기반 추천 모델을 쉽게 구현할 수 있도록 돕는 라이브러리입니다.\\\n",
    "여기서는 SVD(Singular Value Decomposition)를 활용하여 추천을 수행하겠습니다.\n",
    "\n",
    "- 구현 내용\n",
    "1. MovieLens 데이터셋을 사용하여 SVD 기반 추천 모델 학습\n",
    "2. 특정 사용자에게 맞춤형 영화 추천"
   ]
  },
  {
   "cell_type": "markdown",
   "metadata": {},
   "source": [
    "#### 1. Surprise 설치 및 데이터 로드"
   ]
  },
  {
   "cell_type": "markdown",
   "metadata": {},
   "source": [
    "먼저 Surprise 라이브러리를 설치하고 MovieLens 데이터를 불러옵니다.\\\n",
    "이후 SVD를 활용해 모델을 학습하고, 사용자에게 영화를 추천하는 코드입니다."
   ]
  },
  {
   "cell_type": "code",
   "execution_count": null,
   "metadata": {},
   "outputs": [
    {
     "name": "stdout",
     "output_type": "stream",
     "text": [
      "Dataset ml-100k could not be found. Do you want to download it? [Y/n] Trying to download dataset from https://files.grouplens.org/datasets/movielens/ml-100k.zip...\n",
      "Done! Dataset ml-100k has been saved to C:\\Users\\Seonghyeon/.surprise_data/ml-100k\n"
     ]
    }
   ],
   "source": [
    "# 필요한 라이브러리 불러오기\n",
    "import pandas as pd\n",
    "import surprise\n",
    "from surprise import SVD, Dataset\n",
    "from surprise.model_selection import cross_validate\n",
    "\n",
    "# MovieLens 데이터 로드\n",
    "data = Dataset.load_builtin('ml-100k')"
   ]
  },
  {
   "cell_type": "code",
   "execution_count": 6,
   "metadata": {},
   "outputs": [
    {
     "name": "stdout",
     "output_type": "stream",
     "text": [
      "Evaluating RMSE, MAE of algorithm SVD on 5 split(s).\n",
      "\n",
      "                  Fold 1  Fold 2  Fold 3  Fold 4  Fold 5  Mean    Std     \n",
      "RMSE (testset)    0.9368  0.9326  0.9401  0.9310  0.9352  0.9351  0.0032  \n",
      "MAE (testset)     0.7347  0.7351  0.7402  0.7350  0.7411  0.7372  0.0028  \n",
      "Fit time          0.60    0.62    0.72    0.59    0.60    0.63    0.05    \n",
      "Test time         0.08    0.13    0.06    0.13    0.06    0.09    0.03    \n"
     ]
    },
    {
     "data": {
      "text/plain": [
       "{'test_rmse': array([0.93682966, 0.93258815, 0.94012084, 0.93102914, 0.93515786]),\n",
       " 'test_mae': array([0.73468098, 0.73507174, 0.74020395, 0.73495238, 0.74105339]),\n",
       " 'fit_time': (0.6001081466674805,\n",
       "  0.6166708469390869,\n",
       "  0.723581075668335,\n",
       "  0.5862545967102051,\n",
       "  0.6026055812835693),\n",
       " 'test_time': (0.07545828819274902,\n",
       "  0.12703752517700195,\n",
       "  0.0584561824798584,\n",
       "  0.1253972053527832,\n",
       "  0.06400203704833984)}"
      ]
     },
     "execution_count": 6,
     "metadata": {},
     "output_type": "execute_result"
    }
   ],
   "source": [
    "# SVD 모델 학습\n",
    "model = SVD()\n",
    "cross_validate(model, data, cv=5, verbose=True)"
   ]
  },
  {
   "cell_type": "code",
   "execution_count": 7,
   "metadata": {},
   "outputs": [
    {
     "name": "stdout",
     "output_type": "stream",
     "text": [
      "추천영화 목록 :\n",
      "영화 : 318, 예상평점 : 4.61\n",
      "영화 : 64, 예상평점 : 4.57\n",
      "영화 : 408, 예상평점 : 4.55\n",
      "영화 : 480, 예상평점 : 4.55\n",
      "영화 : 98, 예상평점 : 4.47\n",
      "영화 : 647, 예상평점 : 4.46\n",
      "영화 : 357, 예상평점 : 4.46\n",
      "영화 : 127, 예상평점 : 4.46\n",
      "영화 : 313, 예상평점 : 4.45\n",
      "영화 : 169, 예상평점 : 4.44\n"
     ]
    }
   ],
   "source": [
    "# 특정 사용자를 위한 영화 추천\n",
    "# 학습 데이터 생성\n",
    "trainset = data.build_full_trainset()\n",
    "model.fit(trainset)\n",
    "\n",
    "# 특정 사용자(user = 196)에게 영화 추천\n",
    "user_id = str(196)\n",
    "items = trainset.all_items()\n",
    "predictions = [model.predict(user_id, trainset.to_raw_iid(i)) for i in items]\n",
    "\n",
    "# 예측 평점이 높은 순으로 정렬\n",
    "top_n = sorted(predictions, key=lambda x:x.est, reverse=True)[:10]\n",
    "\n",
    "# 추천 결과 출력\n",
    "print('추천영화 목록 :')\n",
    "for pred in top_n:\n",
    "    print(f\"영화 : {pred.iid}, 예상평점 : {pred.est:.2f}\")"
   ]
  },
  {
   "cell_type": "code",
   "execution_count": 8,
   "metadata": {},
   "outputs": [],
   "source": [
    "# 하이퍼 파라미터 튜닝도 가능\n",
    "model = SVD(n_factors = 100, n_epochs=20, lr_all = 0.005)"
   ]
  },
  {
   "cell_type": "markdown",
   "metadata": {},
   "source": [
    "### STEP 2 : Implicit 활용한 Implicit Feedback 기반 추천"
   ]
  },
  {
   "cell_type": "markdown",
   "metadata": {},
   "source": [
    "Implicit 라이브러리는 사용자의 명시적 피드백(평점) 대신 클릭, 조회수, 구매 여부 같은 암묵적 피드백(Implicit Feedback) 을 기반으로 추천하는 모델을 제공합니다.\n",
    "\n",
    "여기서는 ALS (Alternating Least Squares) 모델을 사용하여 추천을 수행해보겠습니다."
   ]
  },
  {
   "cell_type": "code",
   "execution_count": 1,
   "metadata": {},
   "outputs": [
    {
     "name": "stderr",
     "output_type": "stream",
     "text": [
      "c:\\Users\\Seonghyeon\\anaconda3\\envs\\main\\Lib\\site-packages\\tqdm\\auto.py:21: TqdmWarning: IProgress not found. Please update jupyter and ipywidgets. See https://ipywidgets.readthedocs.io/en/stable/user_install.html\n",
      "  from .autonotebook import tqdm as notebook_tqdm\n"
     ]
    }
   ],
   "source": [
    "# 필요한 라이브러리 불러오기\n",
    "import implicit\n",
    "import numpy as np\n",
    "import pandas as pd\n",
    "from scipy.sparse import csr_matrix"
   ]
  },
  {
   "cell_type": "code",
   "execution_count": 4,
   "metadata": {},
   "outputs": [
    {
     "name": "stderr",
     "output_type": "stream",
     "text": [
      "c:\\Users\\Seonghyeon\\anaconda3\\envs\\main\\Lib\\site-packages\\implicit\\cpu\\als.py:95: RuntimeWarning: Intel MKL BLAS is configured to use 8 threads. It is highly recommended to disable its internal threadpool by setting the environment variable 'MKL_NUM_THREADS=1' or by callng 'threadpoolctl.threadpool_limits(1, \"blas\")'. Having MKL use a threadpool can lead to severe performance issues\n",
      "  check_blas_config()\n",
      "100%|██████████| 20/20 [00:00<00:00, 2892.72it/s]"
     ]
    },
    {
     "name": "stdout",
     "output_type": "stream",
     "text": [
      "추천 아이템 목록: (array([2, 1, 4, 3, 0]), array([ 3.1607822e-02,  2.7578674e-02, -3.4028235e+38, -3.4028235e+38,\n",
      "       -3.4028235e+38], dtype=float32))\n"
     ]
    },
    {
     "name": "stderr",
     "output_type": "stream",
     "text": [
      "\n"
     ]
    }
   ],
   "source": [
    "# 샘플 데이터 생성 (User-Item Interaction Matrix)\n",
    "user_item_matrix = np.array([\n",
    "    [5, 0, 3, 0, 2],\n",
    "    [4, 0, 0, 1, 3],\n",
    "    [1, 1, 0, 5, 0],\n",
    "    [0, 0, 4, 4, 0]\n",
    "])\n",
    "\n",
    "# 희소 행렬로 변환\n",
    "user_item_sparse = csr_matrix(user_item_matrix)\n",
    "\n",
    "# ALS 모델 학습\n",
    "model = implicit.als.AlternatingLeastSquares(factors=10, regularization=0.1, iterations=20)\n",
    "model.fit(user_item_sparse)\n",
    "\n",
    "# 특정 사용자에게 추천\n",
    "user_id = 1\n",
    "recommendations = model.recommend(user_id, user_item_sparse[user_id], N=5)\n",
    "\n",
    "# 추천 결과 출력\n",
    "print(\"추천 아이템 목록:\", recommendations)"
   ]
  },
  {
   "cell_type": "markdown",
   "metadata": {},
   "source": [
    "### Step 3: LightFM을 활용한 Hybrid Recommendation"
   ]
  },
  {
   "cell_type": "markdown",
   "metadata": {},
   "source": [
    "LightFM은 협업 필터링과 콘텐츠 기반 추천을 결합한 하이브리드 추천 모델을 제공합니다.\n",
    "이를 통해 사용자 및 아이템 메타데이터를 활용하여 보다 정교한 추천이 가능합니다."
   ]
  },
  {
   "cell_type": "code",
   "execution_count": null,
   "metadata": {},
   "outputs": [],
   "source": [
    "# 필요한 라이브러리 불러오기\n",
    "import numpy as np\n",
    "from lightfm import LightFM\n",
    "from lightfm.datasets import fetch_movielens"
   ]
  },
  {
   "cell_type": "code",
   "execution_count": null,
   "metadata": {},
   "outputs": [],
   "source": [
    "# MovieLens 데이터 로드\n",
    "data = fetch_movielens(min_rating=4.0)\n",
    "\n",
    "# LightFM 모델 생성 (Hybrid Model: 협업 필터링 + 콘텐츠 기반 추천)\n",
    "model = LightFM(loss='warp')  # WARP(Weighted Approximate-Rank Pairwise) 랭킹 알고리즘 적용\n",
    "model.fit(data['train'], epochs=10, num_threads=2)\n",
    "\n",
    "# 특정 사용자에게 영화 추천\n",
    "def recommend(model, data, user_id, n=5):\n",
    "    scores = model.predict(user_id, np.arange(data['train'].shape[1]))\n",
    "    top_items = np.argsort(-scores)[:n]\n",
    "    return top_items\n",
    "\n",
    "# 사용자 ID 3에게 추천\n",
    "user_id = 3\n",
    "recommended_items = recommend(model, data, user_id)\n",
    "print(\"추천 영화 ID:\", recommended_items)"
   ]
  }
 ],
 "metadata": {
  "kernelspec": {
   "display_name": "main",
   "language": "python",
   "name": "python3"
  },
  "language_info": {
   "codemirror_mode": {
    "name": "ipython",
    "version": 3
   },
   "file_extension": ".py",
   "mimetype": "text/x-python",
   "name": "python",
   "nbconvert_exporter": "python",
   "pygments_lexer": "ipython3",
   "version": "3.12.3"
  }
 },
 "nbformat": 4,
 "nbformat_minor": 2
}
