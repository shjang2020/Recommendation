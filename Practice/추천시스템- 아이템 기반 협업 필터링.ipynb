{
 "cells": [
  {
   "cell_type": "code",
   "execution_count": 67,
   "metadata": {
    "execution": {
     "iopub.execute_input": "2020-12-22T20:36:36.390831Z",
     "iopub.status.busy": "2020-12-22T20:36:36.390133Z",
     "iopub.status.idle": "2020-12-22T20:36:37.248077Z",
     "shell.execute_reply": "2020-12-22T20:36:37.248864Z"
    },
    "papermill": {
     "duration": 0.897286,
     "end_time": "2020-12-22T20:36:37.249058",
     "exception": false,
     "start_time": "2020-12-22T20:36:36.351772",
     "status": "completed"
    },
    "scrolled": true,
    "tags": []
   },
   "outputs": [],
   "source": [
    "import numpy as np\n",
    "import pandas as pd\n",
    "import matplotlib.pyplot as plt\n",
    "import seaborn as sns\n",
    "import ipywidgets as widgets\n",
    "from IPython.display import display, clear_output\n",
    "\n",
    "import warnings\n",
    "warnings.filterwarnings('ignore')\n",
    "pd.set_option('display.max_colwidth', -1)\n",
    "\n",
    "import os, sys\n",
    "import re"
   ]
  },
  {
   "cell_type": "code",
   "execution_count": 145,
   "metadata": {
    "execution": {
     "iopub.execute_input": "2020-12-22T20:36:37.327207Z",
     "iopub.status.busy": "2020-12-22T20:36:37.326568Z",
     "iopub.status.idle": "2020-12-22T20:36:40.334416Z",
     "shell.execute_reply": "2020-12-22T20:36:40.333910Z"
    },
    "papermill": {
     "duration": 3.0543,
     "end_time": "2020-12-22T20:36:40.334544",
     "exception": false,
     "start_time": "2020-12-22T20:36:37.280244",
     "status": "completed"
    },
    "tags": []
   },
   "outputs": [
    {
     "data": {
      "text/html": [
       "<div>\n",
       "<style scoped>\n",
       "    .dataframe tbody tr th:only-of-type {\n",
       "        vertical-align: middle;\n",
       "    }\n",
       "\n",
       "    .dataframe tbody tr th {\n",
       "        vertical-align: top;\n",
       "    }\n",
       "\n",
       "    .dataframe thead th {\n",
       "        text-align: right;\n",
       "    }\n",
       "</style>\n",
       "<table border=\"1\" class=\"dataframe\">\n",
       "  <thead>\n",
       "    <tr style=\"text-align: right;\">\n",
       "      <th></th>\n",
       "      <th>ISBN</th>\n",
       "      <th>Book-Title</th>\n",
       "      <th>Book-Author</th>\n",
       "      <th>Year-Of-Publication</th>\n",
       "      <th>Publisher</th>\n",
       "      <th>Image-URL-S</th>\n",
       "      <th>Image-URL-M</th>\n",
       "      <th>Image-URL-L</th>\n",
       "    </tr>\n",
       "  </thead>\n",
       "  <tbody>\n",
       "    <tr>\n",
       "      <th>0</th>\n",
       "      <td>0195153448</td>\n",
       "      <td>Classical Mythology</td>\n",
       "      <td>Mark P. O. Morford</td>\n",
       "      <td>2002</td>\n",
       "      <td>Oxford University Press</td>\n",
       "      <td>http://images.amazon.com/images/P/0195153448.01.THUMBZZZ.jpg</td>\n",
       "      <td>http://images.amazon.com/images/P/0195153448.01.MZZZZZZZ.jpg</td>\n",
       "      <td>http://images.amazon.com/images/P/0195153448.01.LZZZZZZZ.jpg</td>\n",
       "    </tr>\n",
       "    <tr>\n",
       "      <th>1</th>\n",
       "      <td>0002005018</td>\n",
       "      <td>Clara Callan</td>\n",
       "      <td>Richard Bruce Wright</td>\n",
       "      <td>2001</td>\n",
       "      <td>HarperFlamingo Canada</td>\n",
       "      <td>http://images.amazon.com/images/P/0002005018.01.THUMBZZZ.jpg</td>\n",
       "      <td>http://images.amazon.com/images/P/0002005018.01.MZZZZZZZ.jpg</td>\n",
       "      <td>http://images.amazon.com/images/P/0002005018.01.LZZZZZZZ.jpg</td>\n",
       "    </tr>\n",
       "    <tr>\n",
       "      <th>2</th>\n",
       "      <td>0060973129</td>\n",
       "      <td>Decision in Normandy</td>\n",
       "      <td>Carlo D'Este</td>\n",
       "      <td>1991</td>\n",
       "      <td>HarperPerennial</td>\n",
       "      <td>http://images.amazon.com/images/P/0060973129.01.THUMBZZZ.jpg</td>\n",
       "      <td>http://images.amazon.com/images/P/0060973129.01.MZZZZZZZ.jpg</td>\n",
       "      <td>http://images.amazon.com/images/P/0060973129.01.LZZZZZZZ.jpg</td>\n",
       "    </tr>\n",
       "  </tbody>\n",
       "</table>\n",
       "</div>"
      ],
      "text/plain": [
       "         ISBN            Book-Title           Book-Author Year-Of-Publication  \\\n",
       "0  0195153448  Classical Mythology   Mark P. O. Morford    2002                 \n",
       "1  0002005018  Clara Callan          Richard Bruce Wright  2001                 \n",
       "2  0060973129  Decision in Normandy  Carlo D'Este          1991                 \n",
       "\n",
       "                 Publisher  \\\n",
       "0  Oxford University Press   \n",
       "1  HarperFlamingo Canada     \n",
       "2  HarperPerennial           \n",
       "\n",
       "                                                    Image-URL-S  \\\n",
       "0  http://images.amazon.com/images/P/0195153448.01.THUMBZZZ.jpg   \n",
       "1  http://images.amazon.com/images/P/0002005018.01.THUMBZZZ.jpg   \n",
       "2  http://images.amazon.com/images/P/0060973129.01.THUMBZZZ.jpg   \n",
       "\n",
       "                                                    Image-URL-M  \\\n",
       "0  http://images.amazon.com/images/P/0195153448.01.MZZZZZZZ.jpg   \n",
       "1  http://images.amazon.com/images/P/0002005018.01.MZZZZZZZ.jpg   \n",
       "2  http://images.amazon.com/images/P/0060973129.01.MZZZZZZZ.jpg   \n",
       "\n",
       "                                                    Image-URL-L  \n",
       "0  http://images.amazon.com/images/P/0195153448.01.LZZZZZZZ.jpg  \n",
       "1  http://images.amazon.com/images/P/0002005018.01.LZZZZZZZ.jpg  \n",
       "2  http://images.amazon.com/images/P/0060973129.01.LZZZZZZZ.jpg  "
      ]
     },
     "execution_count": 145,
     "metadata": {},
     "output_type": "execute_result"
    }
   ],
   "source": [
    "books = pd.read_csv('./archive/Books.csv')\n",
    "books.head(3)"
   ]
  },
  {
   "cell_type": "code",
   "execution_count": 146,
   "metadata": {
    "execution": {
     "iopub.execute_input": "2020-12-22T20:36:40.870304Z",
     "iopub.status.busy": "2020-12-22T20:36:40.869698Z",
     "iopub.status.idle": "2020-12-22T20:36:41.997954Z",
     "shell.execute_reply": "2020-12-22T20:36:41.998414Z"
    },
    "papermill": {
     "duration": 1.169254,
     "end_time": "2020-12-22T20:36:41.998572",
     "exception": false,
     "start_time": "2020-12-22T20:36:40.829318",
     "status": "completed"
    },
    "tags": []
   },
   "outputs": [
    {
     "data": {
      "text/html": [
       "<div>\n",
       "<style scoped>\n",
       "    .dataframe tbody tr th:only-of-type {\n",
       "        vertical-align: middle;\n",
       "    }\n",
       "\n",
       "    .dataframe tbody tr th {\n",
       "        vertical-align: top;\n",
       "    }\n",
       "\n",
       "    .dataframe thead th {\n",
       "        text-align: right;\n",
       "    }\n",
       "</style>\n",
       "<table border=\"1\" class=\"dataframe\">\n",
       "  <thead>\n",
       "    <tr style=\"text-align: right;\">\n",
       "      <th></th>\n",
       "      <th>User-ID</th>\n",
       "      <th>ISBN</th>\n",
       "      <th>Book-Rating</th>\n",
       "    </tr>\n",
       "  </thead>\n",
       "  <tbody>\n",
       "    <tr>\n",
       "      <th>0</th>\n",
       "      <td>276725</td>\n",
       "      <td>034545104X</td>\n",
       "      <td>0</td>\n",
       "    </tr>\n",
       "    <tr>\n",
       "      <th>1</th>\n",
       "      <td>276726</td>\n",
       "      <td>0155061224</td>\n",
       "      <td>5</td>\n",
       "    </tr>\n",
       "    <tr>\n",
       "      <th>2</th>\n",
       "      <td>276727</td>\n",
       "      <td>0446520802</td>\n",
       "      <td>0</td>\n",
       "    </tr>\n",
       "  </tbody>\n",
       "</table>\n",
       "</div>"
      ],
      "text/plain": [
       "   User-ID        ISBN  Book-Rating\n",
       "0  276725   034545104X  0          \n",
       "1  276726   0155061224  5          \n",
       "2  276727   0446520802  0          "
      ]
     },
     "execution_count": 146,
     "metadata": {},
     "output_type": "execute_result"
    }
   ],
   "source": [
    "ratings = pd.read_csv('./archive/Ratings.csv')\n",
    "ratings.head(3)"
   ]
  },
  {
   "cell_type": "code",
   "execution_count": 147,
   "metadata": {
    "execution": {
     "iopub.execute_input": "2020-12-22T20:36:42.070387Z",
     "iopub.status.busy": "2020-12-22T20:36:42.069502Z",
     "iopub.status.idle": "2020-12-22T20:36:42.076019Z",
     "shell.execute_reply": "2020-12-22T20:36:42.075200Z"
    },
    "papermill": {
     "duration": 0.045331,
     "end_time": "2020-12-22T20:36:42.076158",
     "exception": false,
     "start_time": "2020-12-22T20:36:42.030827",
     "status": "completed"
    },
    "tags": []
   },
   "outputs": [],
   "source": [
    "books.columns = ['ISBN', 'bookTitle', 'bookAuthor', 'yearOfPublication', 'publisher', 'imageUrlS', 'imageUrlM', 'imageUrlL']"
   ]
  },
  {
   "cell_type": "code",
   "execution_count": 148,
   "metadata": {
    "scrolled": false
   },
   "outputs": [
    {
     "data": {
      "text/plain": [
       "((271360, 8), (1149780, 3))"
      ]
     },
     "execution_count": 148,
     "metadata": {},
     "output_type": "execute_result"
    }
   ],
   "source": [
    "books.shape,ratings.shape"
   ]
  },
  {
   "cell_type": "code",
   "execution_count": 149,
   "metadata": {
    "execution": {
     "iopub.execute_input": "2020-12-22T20:36:42.197088Z",
     "iopub.status.busy": "2020-12-22T20:36:42.179964Z",
     "iopub.status.idle": "2020-12-22T20:36:42.205027Z",
     "shell.execute_reply": "2020-12-22T20:36:42.204465Z"
    },
    "papermill": {
     "duration": 0.079677,
     "end_time": "2020-12-22T20:36:42.205136",
     "exception": false,
     "start_time": "2020-12-22T20:36:42.125459",
     "status": "completed"
    },
    "tags": []
   },
   "outputs": [],
   "source": [
    "#dropping last three columns containing image URLs which will not be required for analysis\n",
    "books.drop(['imageUrlS', 'imageUrlM', 'imageUrlL'],axis=1,inplace=True)"
   ]
  },
  {
   "cell_type": "markdown",
   "metadata": {
    "papermill": {
     "duration": 0.034124,
     "end_time": "2020-12-22T20:36:42.529603",
     "exception": false,
     "start_time": "2020-12-22T20:36:42.495479",
     "status": "completed"
    },
    "tags": []
   },
   "source": [
    "### Data Cleaning"
   ]
  },
  {
   "cell_type": "markdown",
   "metadata": {
    "papermill": {
     "duration": 0.033999,
     "end_time": "2020-12-22T20:36:42.597621",
     "exception": false,
     "start_time": "2020-12-22T20:36:42.563622",
     "status": "completed"
    },
    "tags": []
   },
   "source": [
    "아래에서 볼 수 있듯이 이 필드에 일부 잘못된 항목이 있습니다. \\\n",
    "출판사 이름 'DK Publishing Inc' 및 'Gallimard'가 csv 파일의 일부 오류로 인해 데이터 세트의 yearOfPublication으로 잘못 로드된 것 같습니다. \\\n",
    "또한 항목 중 일부는 문자열이고 일부 장소에서 같은 연도가 숫자로 입력되었습니다."
   ]
  },
  {
   "cell_type": "code",
   "execution_count": 150,
   "metadata": {
    "execution": {
     "iopub.execute_input": "2020-12-22T20:36:42.697539Z",
     "iopub.status.busy": "2020-12-22T20:36:42.696604Z",
     "iopub.status.idle": "2020-12-22T20:36:42.709567Z",
     "shell.execute_reply": "2020-12-22T20:36:42.708921Z"
    },
    "papermill": {
     "duration": 0.077654,
     "end_time": "2020-12-22T20:36:42.709683",
     "exception": false,
     "start_time": "2020-12-22T20:36:42.632029",
     "status": "completed"
    },
    "tags": []
   },
   "outputs": [
    {
     "data": {
      "text/html": [
       "<div>\n",
       "<style scoped>\n",
       "    .dataframe tbody tr th:only-of-type {\n",
       "        vertical-align: middle;\n",
       "    }\n",
       "\n",
       "    .dataframe tbody tr th {\n",
       "        vertical-align: top;\n",
       "    }\n",
       "\n",
       "    .dataframe thead th {\n",
       "        text-align: right;\n",
       "    }\n",
       "</style>\n",
       "<table border=\"1\" class=\"dataframe\">\n",
       "  <thead>\n",
       "    <tr style=\"text-align: right;\">\n",
       "      <th></th>\n",
       "      <th>ISBN</th>\n",
       "      <th>bookTitle</th>\n",
       "      <th>bookAuthor</th>\n",
       "      <th>yearOfPublication</th>\n",
       "      <th>publisher</th>\n",
       "    </tr>\n",
       "  </thead>\n",
       "  <tbody>\n",
       "    <tr>\n",
       "      <th>209538</th>\n",
       "      <td>078946697X</td>\n",
       "      <td>DK Readers: Creating the X-Men, How It All Began (Level 4: Proficient Readers)\\\";Michael Teitelbaum\"</td>\n",
       "      <td>2000</td>\n",
       "      <td>DK Publishing Inc</td>\n",
       "      <td>http://images.amazon.com/images/P/078946697X.01.THUMBZZZ.jpg</td>\n",
       "    </tr>\n",
       "    <tr>\n",
       "      <th>220731</th>\n",
       "      <td>2070426769</td>\n",
       "      <td>Peuple du ciel, suivi de 'Les Bergers\\\";Jean-Marie Gustave Le ClÃ?Â©zio\"</td>\n",
       "      <td>2003</td>\n",
       "      <td>Gallimard</td>\n",
       "      <td>http://images.amazon.com/images/P/2070426769.01.THUMBZZZ.jpg</td>\n",
       "    </tr>\n",
       "    <tr>\n",
       "      <th>221678</th>\n",
       "      <td>0789466953</td>\n",
       "      <td>DK Readers: Creating the X-Men, How Comic Books Come to Life (Level 4: Proficient Readers)\\\";James Buckley\"</td>\n",
       "      <td>2000</td>\n",
       "      <td>DK Publishing Inc</td>\n",
       "      <td>http://images.amazon.com/images/P/0789466953.01.THUMBZZZ.jpg</td>\n",
       "    </tr>\n",
       "  </tbody>\n",
       "</table>\n",
       "</div>"
      ],
      "text/plain": [
       "              ISBN  \\\n",
       "209538  078946697X   \n",
       "220731  2070426769   \n",
       "221678  0789466953   \n",
       "\n",
       "                                                                                                          bookTitle  \\\n",
       "209538  DK Readers: Creating the X-Men, How It All Began (Level 4: Proficient Readers)\\\";Michael Teitelbaum\"          \n",
       "220731  Peuple du ciel, suivi de 'Les Bergers\\\";Jean-Marie Gustave Le ClÃ?Â©zio\"                                      \n",
       "221678  DK Readers: Creating the X-Men, How Comic Books Come to Life (Level 4: Proficient Readers)\\\";James Buckley\"   \n",
       "\n",
       "       bookAuthor  yearOfPublication  \\\n",
       "209538  2000       DK Publishing Inc   \n",
       "220731  2003       Gallimard           \n",
       "221678  2000       DK Publishing Inc   \n",
       "\n",
       "                                                           publisher  \n",
       "209538  http://images.amazon.com/images/P/078946697X.01.THUMBZZZ.jpg  \n",
       "220731  http://images.amazon.com/images/P/2070426769.01.THUMBZZZ.jpg  \n",
       "221678  http://images.amazon.com/images/P/0789466953.01.THUMBZZZ.jpg  "
      ]
     },
     "execution_count": 150,
     "metadata": {},
     "output_type": "execute_result"
    }
   ],
   "source": [
    "books.loc[(books.yearOfPublication == 'DK Publishing Inc')|(books.yearOfPublication == 'Gallimard'),:]"
   ]
  },
  {
   "cell_type": "code",
   "execution_count": 151,
   "metadata": {
    "execution": {
     "iopub.execute_input": "2020-12-22T20:36:42.813280Z",
     "iopub.status.busy": "2020-12-22T20:36:42.812371Z",
     "iopub.status.idle": "2020-12-22T20:36:43.045619Z",
     "shell.execute_reply": "2020-12-22T20:36:43.045069Z"
    },
    "papermill": {
     "duration": 0.300977,
     "end_time": "2020-12-22T20:36:43.045724",
     "exception": false,
     "start_time": "2020-12-22T20:36:42.744747",
     "status": "completed"
    },
    "tags": []
   },
   "outputs": [],
   "source": [
    "#From above, it is seen that bookAuthor is incorrectly loaded with bookTitle, hence making required corrections\n",
    "#ISBN '0789466953'\n",
    "books.loc[books.ISBN == '0789466953','yearOfPublication'] = 2000\n",
    "books.loc[books.ISBN == '0789466953','bookAuthor'] = \"James Buckley\"\n",
    "books.loc[books.ISBN == '0789466953','publisher'] = \"DK Publishing Inc\"\n",
    "books.loc[books.ISBN == '0789466953','bookTitle'] = \"DK Readers: Creating the X-Men, How Comic Books Come to Life (Level 4: Proficient Readers)\"\n",
    "\n",
    "#ISBN '078946697X'\n",
    "books.loc[books.ISBN == '078946697X','yearOfPublication'] = 2000\n",
    "books.loc[books.ISBN == '078946697X','bookAuthor'] = \"Michael Teitelbaum\"\n",
    "books.loc[books.ISBN == '078946697X','publisher'] = \"DK Publishing Inc\"\n",
    "books.loc[books.ISBN == '078946697X','bookTitle'] = \"DK Readers: Creating the X-Men, How It All Began (Level 4: Proficient Readers)\"\n",
    "\n",
    "#making required corrections as above, keeping other fields intact\n",
    "books.loc[books.ISBN == '2070426769','yearOfPublication'] = 2003\n",
    "books.loc[books.ISBN == '2070426769','bookAuthor'] = \"Jean-Marie Gustave Le ClÃ?Â©zio\"\n",
    "books.loc[books.ISBN == '2070426769','publisher'] = \"Gallimard\"\n",
    "books.loc[books.ISBN == '2070426769','bookTitle'] = \"Peuple du ciel, suivi de 'Les Bergers\""
   ]
  },
  {
   "cell_type": "markdown",
   "metadata": {
    "papermill": {
     "duration": 0.043652,
     "end_time": "2020-12-22T20:36:45.917964",
     "exception": false,
     "start_time": "2020-12-22T20:36:45.874312",
     "status": "completed"
    },
    "tags": []
   },
   "source": [
    "**Ratings Dataset**"
   ]
  },
  {
   "cell_type": "code",
   "execution_count": 152,
   "metadata": {
    "execution": {
     "iopub.execute_input": "2020-12-22T20:36:46.750710Z",
     "iopub.status.busy": "2020-12-22T20:36:46.749492Z",
     "iopub.status.idle": "2020-12-22T20:36:46.794874Z",
     "shell.execute_reply": "2020-12-22T20:36:46.794005Z"
    },
    "papermill": {
     "duration": 0.455446,
     "end_time": "2020-12-22T20:36:46.795013",
     "exception": false,
     "start_time": "2020-12-22T20:36:46.339567",
     "status": "completed"
    },
    "scrolled": true,
    "tags": []
   },
   "outputs": [
    {
     "data": {
      "text/plain": [
       "((1149780, 3), (1031136, 3))"
      ]
     },
     "execution_count": 152,
     "metadata": {},
     "output_type": "execute_result"
    }
   ],
   "source": [
    "#새 책이 책 데이터 세트에 추가되지 않는 한 점수 데이터 세트에는 책 데이터 세트에 있는 책만 있어야 합니다.\n",
    "ratings_new = ratings[ratings.ISBN.isin(books.ISBN)]\n",
    "\n",
    "ratings.shape,ratings_new.shape\n",
    "#책 데이터 세트의 일부가 아닌 책 ISBN가 있는 많은 행이 삭제되었음을 알 수 있습니다."
   ]
  },
  {
   "cell_type": "markdown",
   "metadata": {
    "papermill": {
     "duration": 0.046787,
     "end_time": "2020-12-22T20:36:47.241195",
     "exception": false,
     "start_time": "2020-12-22T20:36:47.194408",
     "status": "completed"
    },
    "tags": []
   },
   "source": [
    "#### 등급은 명시적이며 1-10의 척도로 표시됨. 값이 높을수록 점수가 더 높음을 의미하며 묵시적으로는 0으로 표시됩니다."
   ]
  },
  {
   "cell_type": "code",
   "execution_count": 153,
   "metadata": {
    "execution": {
     "iopub.execute_input": "2020-12-22T20:36:47.339557Z",
     "iopub.status.busy": "2020-12-22T20:36:47.338862Z",
     "iopub.status.idle": "2020-12-22T20:36:47.350965Z",
     "shell.execute_reply": "2020-12-22T20:36:47.350045Z"
    },
    "papermill": {
     "duration": 0.061522,
     "end_time": "2020-12-22T20:36:47.351104",
     "exception": false,
     "start_time": "2020-12-22T20:36:47.289582",
     "status": "completed"
    },
    "scrolled": false,
    "tags": []
   },
   "outputs": [
    {
     "data": {
      "text/plain": [
       "array([ 0,  5,  3,  6,  8,  7, 10,  9,  4,  1,  2], dtype=int64)"
      ]
     },
     "execution_count": 153,
     "metadata": {},
     "output_type": "execute_result"
    }
   ],
   "source": [
    "ratings['Book-Rating'].unique()"
   ]
  },
  {
   "cell_type": "code",
   "execution_count": 154,
   "metadata": {
    "execution": {
     "iopub.execute_input": "2020-12-22T20:36:47.497222Z",
     "iopub.status.busy": "2020-12-22T20:36:47.496108Z",
     "iopub.status.idle": "2020-12-22T20:36:47.550944Z",
     "shell.execute_reply": "2020-12-22T20:36:47.550018Z"
    },
    "papermill": {
     "duration": 0.127911,
     "end_time": "2020-12-22T20:36:47.551080",
     "exception": false,
     "start_time": "2020-12-22T20:36:47.423169",
     "status": "completed"
    },
    "tags": []
   },
   "outputs": [],
   "source": [
    "# 0으로 된 데이터세트 제거\n",
    "ratings_explicit = ratings_new[ratings_new['Book-Rating'] != 0]"
   ]
  },
  {
   "cell_type": "code",
   "execution_count": 155,
   "metadata": {
    "execution": {
     "iopub.execute_input": "2020-12-22T20:36:47.702062Z",
     "iopub.status.busy": "2020-12-22T20:36:47.701412Z",
     "iopub.status.idle": "2020-12-22T20:36:47.911177Z",
     "shell.execute_reply": "2020-12-22T20:36:47.910537Z"
    },
    "papermill": {
     "duration": 0.288906,
     "end_time": "2020-12-22T20:36:47.911284",
     "exception": false,
     "start_time": "2020-12-22T20:36:47.622378",
     "status": "completed"
    },
    "scrolled": false,
    "tags": []
   },
   "outputs": [
    {
     "name": "stdout",
     "output_type": "stream",
     "text": [
      "(1031136, 3)\n",
      "(383842, 3)\n"
     ]
    },
    {
     "data": {
      "text/plain": [
       "<AxesSubplot:xlabel='Book-Rating', ylabel='count'>"
      ]
     },
     "execution_count": 155,
     "metadata": {},
     "output_type": "execute_result"
    },
    {
     "data": {
      "image/png": "[encoded data removed]",
      "text/plain": [
       "<Figure size 864x576 with 1 Axes>"
      ]
     },
     "metadata": {},
     "output_type": "display_data"
    }
   ],
   "source": [
    "print(ratings_new.shape)\n",
    "print(ratings_explicit.shape)\n",
    "plt.style.use('fivethirtyeight')\n",
    "plt.figure(figsize=(12, 8))\n",
    "sns.countplot(data=ratings_explicit , x='Book-Rating', palette='rocket_r')"
   ]
  },
  {
   "cell_type": "markdown",
   "metadata": {
    "papermill": {
     "duration": 0.048776,
     "end_time": "2020-12-22T20:36:48.009112",
     "exception": false,
     "start_time": "2020-12-22T20:36:47.960336",
     "status": "completed"
    },
    "tags": []
   },
   "source": [
    "사용자들 사이에서 높은 등급이 더 일반적이고, 등급 8이 가장 많은 횟수로 평가되었음을 알 수 있습니다."
   ]
  },
  {
   "cell_type": "markdown",
   "metadata": {},
   "source": [
    "---"
   ]
  },
  {
   "cell_type": "code",
   "execution_count": 177,
   "metadata": {},
   "outputs": [],
   "source": [
    "df = ratings_explicit.groupby('ISBN')['Book-Rating'].count().reset_index()\n",
    "df.columns = ['ISBN','Count']"
   ]
  },
  {
   "cell_type": "code",
   "execution_count": 184,
   "metadata": {},
   "outputs": [],
   "source": [
    "df_up = df[df.Count >=5]"
   ]
  },
  {
   "cell_type": "code",
   "execution_count": 185,
   "metadata": {},
   "outputs": [],
   "source": [
    "rating = ratings_explicit[ratings_explicit['ISBN'].isin(df_up.ISBN.unique())]"
   ]
  },
  {
   "cell_type": "code",
   "execution_count": 186,
   "metadata": {},
   "outputs": [],
   "source": [
    "book = books[books['ISBN'].isin(df_up.ISBN.unique())]"
   ]
  },
  {
   "cell_type": "code",
   "execution_count": 187,
   "metadata": {},
   "outputs": [
    {
     "data": {
      "text/plain": [
       "(192228, 7)"
      ]
     },
     "execution_count": 187,
     "metadata": {},
     "output_type": "execute_result"
    }
   ],
   "source": [
    "data = pd.merge(rating, book, on='ISBN',how='left')\n",
    "data.shape"
   ]
  },
  {
   "cell_type": "code",
   "execution_count": 188,
   "metadata": {},
   "outputs": [
    {
     "data": {
      "text/html": [
       "<div>\n",
       "<style scoped>\n",
       "    .dataframe tbody tr th:only-of-type {\n",
       "        vertical-align: middle;\n",
       "    }\n",
       "\n",
       "    .dataframe tbody tr th {\n",
       "        vertical-align: top;\n",
       "    }\n",
       "\n",
       "    .dataframe thead th {\n",
       "        text-align: right;\n",
       "    }\n",
       "</style>\n",
       "<table border=\"1\" class=\"dataframe\">\n",
       "  <thead>\n",
       "    <tr style=\"text-align: right;\">\n",
       "      <th></th>\n",
       "      <th>User-ID</th>\n",
       "      <th>ISBN</th>\n",
       "      <th>Book-Rating</th>\n",
       "      <th>bookTitle</th>\n",
       "      <th>bookAuthor</th>\n",
       "      <th>yearOfPublication</th>\n",
       "      <th>publisher</th>\n",
       "    </tr>\n",
       "  </thead>\n",
       "  <tbody>\n",
       "    <tr>\n",
       "      <th>0</th>\n",
       "      <td>276744</td>\n",
       "      <td>038550120X</td>\n",
       "      <td>7</td>\n",
       "      <td>A Painted House</td>\n",
       "      <td>JOHN GRISHAM</td>\n",
       "      <td>2001</td>\n",
       "      <td>Doubleday</td>\n",
       "    </tr>\n",
       "    <tr>\n",
       "      <th>1</th>\n",
       "      <td>276747</td>\n",
       "      <td>0060517794</td>\n",
       "      <td>9</td>\n",
       "      <td>Little Altars Everywhere</td>\n",
       "      <td>Rebecca Wells</td>\n",
       "      <td>2003</td>\n",
       "      <td>HarperTorch</td>\n",
       "    </tr>\n",
       "  </tbody>\n",
       "</table>\n",
       "</div>"
      ],
      "text/plain": [
       "   User-ID        ISBN  Book-Rating                 bookTitle     bookAuthor  \\\n",
       "0  276744   038550120X  7            A Painted House           JOHN GRISHAM    \n",
       "1  276747   0060517794  9            Little Altars Everywhere  Rebecca Wells   \n",
       "\n",
       "  yearOfPublication    publisher  \n",
       "0  2001              Doubleday    \n",
       "1  2003              HarperTorch  "
      ]
     },
     "execution_count": 188,
     "metadata": {},
     "output_type": "execute_result"
    }
   ],
   "source": [
    "data.head(2)"
   ]
  },
  {
   "cell_type": "code",
   "execution_count": 189,
   "metadata": {},
   "outputs": [],
   "source": [
    "user_rating=data.pivot_table('Book-Rating',index='bookTitle',columns='User-ID').fillna(0)"
   ]
  },
  {
   "cell_type": "code",
   "execution_count": 190,
   "metadata": {},
   "outputs": [],
   "source": [
    "from sklearn.metrics.pairwise import cosine_similarity"
   ]
  },
  {
   "cell_type": "code",
   "execution_count": 191,
   "metadata": {},
   "outputs": [
    {
     "data": {
      "text/plain": [
       "array([[1.        , 0.        , 0.        , ..., 0.        , 0.        ,\n",
       "        0.        ],\n",
       "       [0.        , 1.        , 0.        , ..., 0.        , 0.        ,\n",
       "        0.        ],\n",
       "       [0.        , 0.        , 1.        , ..., 0.        , 0.        ,\n",
       "        0.        ],\n",
       "       ...,\n",
       "       [0.        , 0.        , 0.        , ..., 1.        , 0.09794651,\n",
       "        0.        ],\n",
       "       [0.        , 0.        , 0.        , ..., 0.09794651, 1.        ,\n",
       "        0.        ],\n",
       "       [0.        , 0.        , 0.        , ..., 0.        , 0.        ,\n",
       "        1.        ]])"
      ]
     },
     "execution_count": 191,
     "metadata": {},
     "output_type": "execute_result"
    }
   ],
   "source": [
    "item_based_collabor = cosine_similarity(user_rating)\n",
    "item_based_collabor"
   ]
  },
  {
   "cell_type": "code",
   "execution_count": 192,
   "metadata": {},
   "outputs": [],
   "source": [
    "item_based_collabor = pd.DataFrame(data=item_based_collabor, index=user_rating.index, columns=user_rating.index)"
   ]
  },
  {
   "cell_type": "code",
   "execution_count": 193,
   "metadata": {},
   "outputs": [
    {
     "data": {
      "text/html": [
       "<div>\n",
       "<style scoped>\n",
       "    .dataframe tbody tr th:only-of-type {\n",
       "        vertical-align: middle;\n",
       "    }\n",
       "\n",
       "    .dataframe tbody tr th {\n",
       "        vertical-align: top;\n",
       "    }\n",
       "\n",
       "    .dataframe thead th {\n",
       "        text-align: right;\n",
       "    }\n",
       "</style>\n",
       "<table border=\"1\" class=\"dataframe\">\n",
       "  <thead>\n",
       "    <tr style=\"text-align: right;\">\n",
       "      <th>bookTitle</th>\n",
       "      <th>Earth Prayers From around the World: 365 Prayers, Poems, and Invocations for Honoring the Earth</th>\n",
       "      <th>Murder of a Sleeping Beauty (Scumble River Mysteries (Paperback))</th>\n",
       "      <th>!Yo!</th>\n",
       "      <th>'Salem's Lot</th>\n",
       "      <th>01-01-00: A Novel of the Millennium</th>\n",
       "      <th>01-01-00: The Novel of the Millennium</th>\n",
       "      <th>1,000 Places to See Before You Die</th>\n",
       "      <th>1,911 Best Things Anybody Ever Said</th>\n",
       "      <th>10 Lb. Penalty</th>\n",
       "      <th>100 Best-Loved Poems (Dover Thrift Editions)</th>\n",
       "      <th>...</th>\n",
       "      <th>\\O\\\" Is for Outlaw\"</th>\n",
       "      <th>\\Surely You're Joking, Mr. Feynman!\\\": Adventures of a Curious Character\"</th>\n",
       "      <th>\\The Happy Prince\\\" and Other Stories (Penguin Popular Classics)\"</th>\n",
       "      <th>\\What Do You Care What Other People Think?\\\": Further Adventures of a Curious Character\"</th>\n",
       "      <th>e</th>\n",
       "      <th>iI Paradiso Degli Orchi</th>\n",
       "      <th>murder@maggody.com : An Arly Hanks Mystery (Arly Hanks Mysteries (Paperback))</th>\n",
       "      <th>one hundred years of solitude</th>\n",
       "      <th>stardust</th>\n",
       "      <th>why I'm like this : True Stories</th>\n",
       "    </tr>\n",
       "    <tr>\n",
       "      <th>bookTitle</th>\n",
       "      <th></th>\n",
       "      <th></th>\n",
       "      <th></th>\n",
       "      <th></th>\n",
       "      <th></th>\n",
       "      <th></th>\n",
       "      <th></th>\n",
       "      <th></th>\n",
       "      <th></th>\n",
       "      <th></th>\n",
       "      <th></th>\n",
       "      <th></th>\n",
       "      <th></th>\n",
       "      <th></th>\n",
       "      <th></th>\n",
       "      <th></th>\n",
       "      <th></th>\n",
       "      <th></th>\n",
       "      <th></th>\n",
       "      <th></th>\n",
       "      <th></th>\n",
       "    </tr>\n",
       "  </thead>\n",
       "  <tbody>\n",
       "    <tr>\n",
       "      <th>Earth Prayers From around the World: 365 Prayers, Poems, and Invocations for Honoring the Earth</th>\n",
       "      <td>1.0</td>\n",
       "      <td>0.0</td>\n",
       "      <td>0.0</td>\n",
       "      <td>0.0</td>\n",
       "      <td>0.0</td>\n",
       "      <td>0.000000</td>\n",
       "      <td>0.0</td>\n",
       "      <td>0.0</td>\n",
       "      <td>0.0</td>\n",
       "      <td>0.0</td>\n",
       "      <td>...</td>\n",
       "      <td>0.00000</td>\n",
       "      <td>0.000000</td>\n",
       "      <td>0.0</td>\n",
       "      <td>0.0</td>\n",
       "      <td>0.0</td>\n",
       "      <td>0.0</td>\n",
       "      <td>0.0</td>\n",
       "      <td>0.0</td>\n",
       "      <td>0.000000</td>\n",
       "      <td>0.0</td>\n",
       "    </tr>\n",
       "    <tr>\n",
       "      <th>Murder of a Sleeping Beauty (Scumble River Mysteries (Paperback))</th>\n",
       "      <td>0.0</td>\n",
       "      <td>1.0</td>\n",
       "      <td>0.0</td>\n",
       "      <td>0.0</td>\n",
       "      <td>0.0</td>\n",
       "      <td>0.000000</td>\n",
       "      <td>0.0</td>\n",
       "      <td>0.0</td>\n",
       "      <td>0.0</td>\n",
       "      <td>0.0</td>\n",
       "      <td>...</td>\n",
       "      <td>0.00000</td>\n",
       "      <td>0.000000</td>\n",
       "      <td>0.0</td>\n",
       "      <td>0.0</td>\n",
       "      <td>0.0</td>\n",
       "      <td>0.0</td>\n",
       "      <td>0.0</td>\n",
       "      <td>0.0</td>\n",
       "      <td>0.000000</td>\n",
       "      <td>0.0</td>\n",
       "    </tr>\n",
       "    <tr>\n",
       "      <th>!Yo!</th>\n",
       "      <td>0.0</td>\n",
       "      <td>0.0</td>\n",
       "      <td>1.0</td>\n",
       "      <td>0.0</td>\n",
       "      <td>0.0</td>\n",
       "      <td>0.000000</td>\n",
       "      <td>0.0</td>\n",
       "      <td>0.0</td>\n",
       "      <td>0.0</td>\n",
       "      <td>0.0</td>\n",
       "      <td>...</td>\n",
       "      <td>0.00000</td>\n",
       "      <td>0.000000</td>\n",
       "      <td>0.0</td>\n",
       "      <td>0.0</td>\n",
       "      <td>0.0</td>\n",
       "      <td>0.0</td>\n",
       "      <td>0.0</td>\n",
       "      <td>0.0</td>\n",
       "      <td>0.000000</td>\n",
       "      <td>0.0</td>\n",
       "    </tr>\n",
       "    <tr>\n",
       "      <th>'Salem's Lot</th>\n",
       "      <td>0.0</td>\n",
       "      <td>0.0</td>\n",
       "      <td>0.0</td>\n",
       "      <td>1.0</td>\n",
       "      <td>0.0</td>\n",
       "      <td>0.000000</td>\n",
       "      <td>0.0</td>\n",
       "      <td>0.0</td>\n",
       "      <td>0.0</td>\n",
       "      <td>0.0</td>\n",
       "      <td>...</td>\n",
       "      <td>0.00000</td>\n",
       "      <td>0.000000</td>\n",
       "      <td>0.0</td>\n",
       "      <td>0.0</td>\n",
       "      <td>0.0</td>\n",
       "      <td>0.0</td>\n",
       "      <td>0.0</td>\n",
       "      <td>0.0</td>\n",
       "      <td>0.000000</td>\n",
       "      <td>0.0</td>\n",
       "    </tr>\n",
       "    <tr>\n",
       "      <th>01-01-00: A Novel of the Millennium</th>\n",
       "      <td>0.0</td>\n",
       "      <td>0.0</td>\n",
       "      <td>0.0</td>\n",
       "      <td>0.0</td>\n",
       "      <td>1.0</td>\n",
       "      <td>0.153766</td>\n",
       "      <td>0.0</td>\n",
       "      <td>0.0</td>\n",
       "      <td>0.0</td>\n",
       "      <td>0.0</td>\n",
       "      <td>...</td>\n",
       "      <td>0.04783</td>\n",
       "      <td>0.084077</td>\n",
       "      <td>0.0</td>\n",
       "      <td>0.0</td>\n",
       "      <td>0.0</td>\n",
       "      <td>0.0</td>\n",
       "      <td>0.0</td>\n",
       "      <td>0.0</td>\n",
       "      <td>0.103352</td>\n",
       "      <td>0.0</td>\n",
       "    </tr>\n",
       "  </tbody>\n",
       "</table>\n",
       "<p>5 rows × 12207 columns</p>\n",
       "</div>"
      ],
      "text/plain": [
       "bookTitle                                                                                          Earth Prayers From around the World: 365 Prayers, Poems, and Invocations for Honoring the Earth  \\\n",
       "bookTitle                                                                                                                                                                                            \n",
       " Earth Prayers From around the World: 365 Prayers, Poems, and Invocations for Honoring the Earth  1.0                                                                                                \n",
       " Murder of a Sleeping Beauty (Scumble River Mysteries (Paperback))                                0.0                                                                                                \n",
       "!Yo!                                                                                              0.0                                                                                                \n",
       "'Salem's Lot                                                                                      0.0                                                                                                \n",
       "01-01-00: A Novel of the Millennium                                                               0.0                                                                                                \n",
       "\n",
       "bookTitle                                                                                          Murder of a Sleeping Beauty (Scumble River Mysteries (Paperback))  \\\n",
       "bookTitle                                                                                                                                                              \n",
       " Earth Prayers From around the World: 365 Prayers, Poems, and Invocations for Honoring the Earth  0.0                                                                  \n",
       " Murder of a Sleeping Beauty (Scumble River Mysteries (Paperback))                                1.0                                                                  \n",
       "!Yo!                                                                                              0.0                                                                  \n",
       "'Salem's Lot                                                                                      0.0                                                                  \n",
       "01-01-00: A Novel of the Millennium                                                               0.0                                                                  \n",
       "\n",
       "bookTitle                                                                                         !Yo!  \\\n",
       "bookTitle                                                                                                \n",
       " Earth Prayers From around the World: 365 Prayers, Poems, and Invocations for Honoring the Earth  0.0    \n",
       " Murder of a Sleeping Beauty (Scumble River Mysteries (Paperback))                                0.0    \n",
       "!Yo!                                                                                              1.0    \n",
       "'Salem's Lot                                                                                      0.0    \n",
       "01-01-00: A Novel of the Millennium                                                               0.0    \n",
       "\n",
       "bookTitle                                                                                         'Salem's Lot  \\\n",
       "bookTitle                                                                                                        \n",
       " Earth Prayers From around the World: 365 Prayers, Poems, and Invocations for Honoring the Earth  0.0            \n",
       " Murder of a Sleeping Beauty (Scumble River Mysteries (Paperback))                                0.0            \n",
       "!Yo!                                                                                              0.0            \n",
       "'Salem's Lot                                                                                      1.0            \n",
       "01-01-00: A Novel of the Millennium                                                               0.0            \n",
       "\n",
       "bookTitle                                                                                         01-01-00: A Novel of the Millennium  \\\n",
       "bookTitle                                                                                                                               \n",
       " Earth Prayers From around the World: 365 Prayers, Poems, and Invocations for Honoring the Earth  0.0                                   \n",
       " Murder of a Sleeping Beauty (Scumble River Mysteries (Paperback))                                0.0                                   \n",
       "!Yo!                                                                                              0.0                                   \n",
       "'Salem's Lot                                                                                      0.0                                   \n",
       "01-01-00: A Novel of the Millennium                                                               1.0                                   \n",
       "\n",
       "bookTitle                                                                                         01-01-00: The Novel of the Millennium  \\\n",
       "bookTitle                                                                                                                                 \n",
       " Earth Prayers From around the World: 365 Prayers, Poems, and Invocations for Honoring the Earth  0.000000                                \n",
       " Murder of a Sleeping Beauty (Scumble River Mysteries (Paperback))                                0.000000                                \n",
       "!Yo!                                                                                              0.000000                                \n",
       "'Salem's Lot                                                                                      0.000000                                \n",
       "01-01-00: A Novel of the Millennium                                                               0.153766                                \n",
       "\n",
       "bookTitle                                                                                         1,000 Places to See Before You Die  \\\n",
       "bookTitle                                                                                                                              \n",
       " Earth Prayers From around the World: 365 Prayers, Poems, and Invocations for Honoring the Earth  0.0                                  \n",
       " Murder of a Sleeping Beauty (Scumble River Mysteries (Paperback))                                0.0                                  \n",
       "!Yo!                                                                                              0.0                                  \n",
       "'Salem's Lot                                                                                      0.0                                  \n",
       "01-01-00: A Novel of the Millennium                                                               0.0                                  \n",
       "\n",
       "bookTitle                                                                                         1,911 Best Things Anybody Ever Said  \\\n",
       "bookTitle                                                                                                                               \n",
       " Earth Prayers From around the World: 365 Prayers, Poems, and Invocations for Honoring the Earth  0.0                                   \n",
       " Murder of a Sleeping Beauty (Scumble River Mysteries (Paperback))                                0.0                                   \n",
       "!Yo!                                                                                              0.0                                   \n",
       "'Salem's Lot                                                                                      0.0                                   \n",
       "01-01-00: A Novel of the Millennium                                                               0.0                                   \n",
       "\n",
       "bookTitle                                                                                         10 Lb. Penalty  \\\n",
       "bookTitle                                                                                                          \n",
       " Earth Prayers From around the World: 365 Prayers, Poems, and Invocations for Honoring the Earth  0.0              \n",
       " Murder of a Sleeping Beauty (Scumble River Mysteries (Paperback))                                0.0              \n",
       "!Yo!                                                                                              0.0              \n",
       "'Salem's Lot                                                                                      0.0              \n",
       "01-01-00: A Novel of the Millennium                                                               0.0              \n",
       "\n",
       "bookTitle                                                                                         100 Best-Loved Poems (Dover Thrift Editions)  \\\n",
       "bookTitle                                                                                                                                        \n",
       " Earth Prayers From around the World: 365 Prayers, Poems, and Invocations for Honoring the Earth  0.0                                            \n",
       " Murder of a Sleeping Beauty (Scumble River Mysteries (Paperback))                                0.0                                            \n",
       "!Yo!                                                                                              0.0                                            \n",
       "'Salem's Lot                                                                                      0.0                                            \n",
       "01-01-00: A Novel of the Millennium                                                               0.0                                            \n",
       "\n",
       "bookTitle                                                                                         ...  \\\n",
       "bookTitle                                                                                         ...   \n",
       " Earth Prayers From around the World: 365 Prayers, Poems, and Invocations for Honoring the Earth  ...   \n",
       " Murder of a Sleeping Beauty (Scumble River Mysteries (Paperback))                                ...   \n",
       "!Yo!                                                                                              ...   \n",
       "'Salem's Lot                                                                                      ...   \n",
       "01-01-00: A Novel of the Millennium                                                               ...   \n",
       "\n",
       "bookTitle                                                                                         \\O\\\" Is for Outlaw\"  \\\n",
       "bookTitle                                                                                                               \n",
       " Earth Prayers From around the World: 365 Prayers, Poems, and Invocations for Honoring the Earth  0.00000               \n",
       " Murder of a Sleeping Beauty (Scumble River Mysteries (Paperback))                                0.00000               \n",
       "!Yo!                                                                                              0.00000               \n",
       "'Salem's Lot                                                                                      0.00000               \n",
       "01-01-00: A Novel of the Millennium                                                               0.04783               \n",
       "\n",
       "bookTitle                                                                                         \\Surely You're Joking, Mr. Feynman!\\\": Adventures of a Curious Character\"  \\\n",
       "bookTitle                                                                                                                                                                     \n",
       " Earth Prayers From around the World: 365 Prayers, Poems, and Invocations for Honoring the Earth  0.000000                                                                    \n",
       " Murder of a Sleeping Beauty (Scumble River Mysteries (Paperback))                                0.000000                                                                    \n",
       "!Yo!                                                                                              0.000000                                                                    \n",
       "'Salem's Lot                                                                                      0.000000                                                                    \n",
       "01-01-00: A Novel of the Millennium                                                               0.084077                                                                    \n",
       "\n",
       "bookTitle                                                                                         \\The Happy Prince\\\" and Other Stories (Penguin Popular Classics)\"  \\\n",
       "bookTitle                                                                                                                                                             \n",
       " Earth Prayers From around the World: 365 Prayers, Poems, and Invocations for Honoring the Earth  0.0                                                                 \n",
       " Murder of a Sleeping Beauty (Scumble River Mysteries (Paperback))                                0.0                                                                 \n",
       "!Yo!                                                                                              0.0                                                                 \n",
       "'Salem's Lot                                                                                      0.0                                                                 \n",
       "01-01-00: A Novel of the Millennium                                                               0.0                                                                 \n",
       "\n",
       "bookTitle                                                                                         \\What Do You Care What Other People Think?\\\": Further Adventures of a Curious Character\"  \\\n",
       "bookTitle                                                                                                                                                                                    \n",
       " Earth Prayers From around the World: 365 Prayers, Poems, and Invocations for Honoring the Earth  0.0                                                                                        \n",
       " Murder of a Sleeping Beauty (Scumble River Mysteries (Paperback))                                0.0                                                                                        \n",
       "!Yo!                                                                                              0.0                                                                                        \n",
       "'Salem's Lot                                                                                      0.0                                                                                        \n",
       "01-01-00: A Novel of the Millennium                                                               0.0                                                                                        \n",
       "\n",
       "bookTitle                                                                                           e  \\\n",
       "bookTitle                                                                                               \n",
       " Earth Prayers From around the World: 365 Prayers, Poems, and Invocations for Honoring the Earth  0.0   \n",
       " Murder of a Sleeping Beauty (Scumble River Mysteries (Paperback))                                0.0   \n",
       "!Yo!                                                                                              0.0   \n",
       "'Salem's Lot                                                                                      0.0   \n",
       "01-01-00: A Novel of the Millennium                                                               0.0   \n",
       "\n",
       "bookTitle                                                                                         iI Paradiso Degli Orchi  \\\n",
       "bookTitle                                                                                                                   \n",
       " Earth Prayers From around the World: 365 Prayers, Poems, and Invocations for Honoring the Earth  0.0                       \n",
       " Murder of a Sleeping Beauty (Scumble River Mysteries (Paperback))                                0.0                       \n",
       "!Yo!                                                                                              0.0                       \n",
       "'Salem's Lot                                                                                      0.0                       \n",
       "01-01-00: A Novel of the Millennium                                                               0.0                       \n",
       "\n",
       "bookTitle                                                                                         murder@maggody.com : An Arly Hanks Mystery (Arly Hanks Mysteries (Paperback))  \\\n",
       "bookTitle                                                                                                                                                                         \n",
       " Earth Prayers From around the World: 365 Prayers, Poems, and Invocations for Honoring the Earth  0.0                                                                             \n",
       " Murder of a Sleeping Beauty (Scumble River Mysteries (Paperback))                                0.0                                                                             \n",
       "!Yo!                                                                                              0.0                                                                             \n",
       "'Salem's Lot                                                                                      0.0                                                                             \n",
       "01-01-00: A Novel of the Millennium                                                               0.0                                                                             \n",
       "\n",
       "bookTitle                                                                                         one hundred years of solitude  \\\n",
       "bookTitle                                                                                                                         \n",
       " Earth Prayers From around the World: 365 Prayers, Poems, and Invocations for Honoring the Earth  0.0                             \n",
       " Murder of a Sleeping Beauty (Scumble River Mysteries (Paperback))                                0.0                             \n",
       "!Yo!                                                                                              0.0                             \n",
       "'Salem's Lot                                                                                      0.0                             \n",
       "01-01-00: A Novel of the Millennium                                                               0.0                             \n",
       "\n",
       "bookTitle                                                                                         stardust  \\\n",
       "bookTitle                                                                                                    \n",
       " Earth Prayers From around the World: 365 Prayers, Poems, and Invocations for Honoring the Earth  0.000000   \n",
       " Murder of a Sleeping Beauty (Scumble River Mysteries (Paperback))                                0.000000   \n",
       "!Yo!                                                                                              0.000000   \n",
       "'Salem's Lot                                                                                      0.000000   \n",
       "01-01-00: A Novel of the Millennium                                                               0.103352   \n",
       "\n",
       "bookTitle                                                                                         why I'm like this : True Stories  \n",
       "bookTitle                                                                                                                           \n",
       " Earth Prayers From around the World: 365 Prayers, Poems, and Invocations for Honoring the Earth  0.0                               \n",
       " Murder of a Sleeping Beauty (Scumble River Mysteries (Paperback))                                0.0                               \n",
       "!Yo!                                                                                              0.0                               \n",
       "'Salem's Lot                                                                                      0.0                               \n",
       "01-01-00: A Novel of the Millennium                                                               0.0                               \n",
       "\n",
       "[5 rows x 12207 columns]"
      ]
     },
     "execution_count": 193,
     "metadata": {},
     "output_type": "execute_result"
    }
   ],
   "source": [
    "item_based_collabor.head()"
   ]
  },
  {
   "cell_type": "code",
   "execution_count": 232,
   "metadata": {},
   "outputs": [],
   "source": [
    "def get_item_based_collabor(title):\n",
    "    return item_based_collabor[title].sort_values(ascending=False)[:6]"
   ]
  },
  {
   "cell_type": "code",
   "execution_count": 240,
   "metadata": {
    "scrolled": true
   },
   "outputs": [
    {
     "data": {
      "text/plain": [
       "bookTitle\n",
       "!Yo!                                                           1.000000\n",
       "The Island of Lost Maps: A True Story of Cartographic Crime    0.197257\n",
       "Black Lotus (A Sano Ichiro Mystery)                            0.186883\n",
       "Trash                                                          0.186381\n",
       "Walking to Mercury                                             0.184324\n",
       "Driving Over Lemons: An Optimist in Andalucia                  0.181530\n",
       "Name: !Yo!, dtype: float64"
      ]
     },
     "execution_count": 240,
     "metadata": {},
     "output_type": "execute_result"
    }
   ],
   "source": [
    "get_item_based_collabor('!Yo!')"
   ]
  },
  {
   "cell_type": "markdown",
   "metadata": {},
   "source": [
    "**!Yo! 와 유사한 책 추천**\n",
    "\n",
    "1. The Island of Lost Maps: A True Story of Cartographic Crime    \n",
    "2. Black Lotus (A Sano Ichiro Mystery)\n",
    "3. Trash\n",
    "4. Walking to Mercury\n",
    "5. Driving Over Lemons: An Optimist in Andalucia"
   ]
  }
 ],
 "metadata": {
  "kernelspec": {
   "display_name": "Python 3",
   "language": "python",
   "name": "python3"
  },
  "language_info": {
   "codemirror_mode": {
    "name": "ipython",
    "version": 3
   },
   "file_extension": ".py",
   "mimetype": "text/x-python",
   "name": "python",
   "nbconvert_exporter": "python",
   "pygments_lexer": "ipython3",
   "version": "3.8.5"
  },
  "papermill": {
   "duration": 17.514084,
   "end_time": "2020-12-22T20:36:49.474643",
   "environment_variables": {},
   "exception": null,
   "input_path": "__notebook__.ipynb",
   "output_path": "__notebook__.ipynb",
   "parameters": {},
   "start_time": "2020-12-22T20:36:31.960559",
   "version": "2.1.0"
  }
 },
 "nbformat": 4,
 "nbformat_minor": 4
}
