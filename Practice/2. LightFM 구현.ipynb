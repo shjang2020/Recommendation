{
 "cells": [
  {
   "cell_type": "markdown",
   "metadata": {},
   "source": [
    "### 1. LightFM 구현"
   ]
  },
  {
   "cell_type": "code",
   "execution_count": 46,
   "metadata": {},
   "outputs": [],
   "source": [
    "# 필요한 라이브러리 불러오기\n",
    "import warnings\n",
    "warnings.filterwarnings(\"ignore\")\n",
    "import numpy as np\n",
    "import pandas as pd\n",
    "from lightfm import LightFM\n",
    "from lightfm.datasets import fetch_movielens\n",
    "import time"
   ]
  },
  {
   "cell_type": "markdown",
   "metadata": {},
   "source": [
    "#### 1-1. Dataset"
   ]
  },
  {
   "cell_type": "code",
   "execution_count": 47,
   "metadata": {},
   "outputs": [],
   "source": [
    "# ✅ 1. Movielens 데이터셋 불러오기 (평점 4점 이상만 사용)\n",
    "data = fetch_movielens(indicator_features=False, genre_features=True)\n",
    "# LightFM이 사용하는 MovieLens 100k 원본 파일 경로\n",
    "url = \"http://files.grouplens.org/datasets/movielens/ml-100k/u.item\"\n",
    "# 해당 파일에는 | 구분자, 인코딩은 ISO-8859-1 사용\n",
    "movies = pd.read_csv(url, sep='|', header=None, encoding='latin-1')\n",
    "# 영화 제목만 추출\n",
    "item_labels = movies[1].values\n",
    "# 원본 데이터 대입\n",
    "data['item_labels'] = item_labels"
   ]
  },
  {
   "cell_type": "markdown",
   "metadata": {},
   "source": [
    "#### 1-2. Model"
   ]
  },
  {
   "cell_type": "code",
   "execution_count": 48,
   "metadata": {},
   "outputs": [],
   "source": [
    "# ✅ 2. LightFM 모델 학습 (WARP Loss 은 활용하지 못해서 logistic 활용)\n",
    "model = LightFM(loss='logistic')"
   ]
  },
  {
   "cell_type": "code",
   "execution_count": 50,
   "metadata": {},
   "outputs": [
    {
     "name": "stdout",
     "output_type": "stream",
     "text": [
      "✅ 3단계: 모델 학습 완료! (1.30초)\n"
     ]
    }
   ],
   "source": [
    "try:\n",
    "    start = time.time()\n",
    "    model.fit(data['train'], epochs=10, num_threads=1)\n",
    "    print(\"✅ 3단계: 모델 학습 완료!\", f\"({time.time() - start:.2f}초)\")\n",
    "except Exception as e:\n",
    "    print(\"❌ model.fit 중 오류 발생:\", e)"
   ]
  },
  {
   "cell_type": "markdown",
   "metadata": {},
   "source": [
    "#### 1-3. 함수 정의 및 출력"
   ]
  },
  {
   "cell_type": "code",
   "execution_count": 51,
   "metadata": {},
   "outputs": [
    {
     "name": "stdout",
     "output_type": "stream",
     "text": [
      "\n",
      "✅ 사용자 3에게 추천하는 영화:\n",
      "1. Star Wars (1977)\n",
      "2. English Patient, The (1996)\n",
      "3. Contact (1997)\n",
      "4. Fargo (1996)\n",
      "5. Liar Liar (1997)\n"
     ]
    }
   ],
   "source": [
    "# ✅ 3. 추천 함수 정의\n",
    "def recommend_movies(model, user_id, num_items=5):\n",
    "    n_items = data['train'].shape[1]\n",
    "    scores = model.predict(user_id, np.arange(n_items))\n",
    "    top_items = np.argsort(-scores)[:num_items]  # 높은 점수순으로 정렬\n",
    "    return [data['item_labels'][i] for i in top_items]\n",
    "\n",
    "# ✅ 4. 특정 사용자에게 추천 실행\n",
    "user_id = 3\n",
    "recommended_movies = recommend_movies(model, user_id)\n",
    "\n",
    "print(f\"\\n✅ 사용자 {user_id}에게 추천하는 영화:\")\n",
    "for i, movie in enumerate(recommended_movies, start=1):\n",
    "    print(f\"{i}. {movie}\")"
   ]
  },
  {
   "cell_type": "markdown",
   "metadata": {},
   "source": [
    "### 2. Hybrid 모델로 확장"
   ]
  },
  {
   "cell_type": "markdown",
   "metadata": {},
   "source": [
    "#### 2-1. 유저 메타데이터 로드 및 전처리"
   ]
  },
  {
   "cell_type": "code",
   "execution_count": 54,
   "metadata": {},
   "outputs": [],
   "source": [
    "# 유저 정보 로딩\n",
    "user_info_url = \"http://files.grouplens.org/datasets/movielens/ml-100k/u.user\"\n",
    "users = pd.read_csv(user_info_url, sep='|', header=None, encoding='latin-1')\n",
    "users.columns = ['user_id', 'age', 'gender', 'occupation', 'zip_code']\n",
    "\n",
    "# user_id를 0부터 시작하게 맞춤\n",
    "users['user_id'] = users['user_id'] -1\n",
    "users = users.sort_values('user_id').reset_index(drop=True)\n",
    "\n",
    "# 직업과 성별을 범주형으로 인코딩 (예: \"gender=F\", \"occupation=student\")\n",
    "users['gender'] ='gender=' + users['gender']\n",
    "users['occupation'] ='occupation=' + users['occupation']\n",
    "\n",
    "# 나이대 범주형 데이터도 추가로 인코딩\n",
    "def age_group(age):\n",
    "    if age < 20:\n",
    "        return 'age=10s'\n",
    "    elif age < 30:\n",
    "        return 'age=20s'\n",
    "    elif age < 40:\n",
    "        return 'age=30s'\n",
    "    elif age < 50:\n",
    "        return 'age=40s'\n",
    "    else:\n",
    "        return 'age=50+'\n",
    "\n",
    "users['age'] = users['age'].apply(age_group)\n",
    "\n",
    "# 특성 컬럼만 선택\n",
    "user_features_raw = users[['gender','occupation','age']]"
   ]
  },
  {
   "cell_type": "markdown",
   "metadata": {},
   "source": [
    "#### 2-2. LightFM용 user_features 만들기(CSR 포맷)"
   ]
  },
  {
   "cell_type": "code",
   "execution_count": 55,
   "metadata": {},
   "outputs": [],
   "source": [
    "from lightfm.data import Dataset\n",
    "\n",
    "# 새 데이터셋 생성\n",
    "dataset = Dataset()\n",
    "\n",
    "# 사용자와 아이템 수 정의\n",
    "num_users, num_items = data['train'].shape\n",
    "dataset.fit(users=range(num_users), items=range(num_items))\n",
    "\n",
    "# 유저 특성 등록\n",
    "all_user_features = list(np.unique(user_features_raw.values.flatten()))\n",
    "dataset.fit_partial(user_features=all_user_features)\n",
    "\n",
    "# 사용자별 특성 맵핑\n",
    "user_features_tuple = [\n",
    "    (user_id, list(user_features_raw.iloc[user_id].values)) for user_id in range(num_users)\n",
    "]\n",
    "\n",
    "# CSR 행렬 생성\n",
    "user_features = dataset.build_user_features(user_features_tuple)"
   ]
  },
  {
   "cell_type": "markdown",
   "metadata": {},
   "source": [
    "#### 2-3. 모델에 유저 특성 추가해서 학습"
   ]
  },
  {
   "cell_type": "code",
   "execution_count": 56,
   "metadata": {},
   "outputs": [
    {
     "data": {
      "text/plain": [
       "<lightfm.lightfm.LightFM at 0x1da931104c0>"
      ]
     },
     "execution_count": 56,
     "metadata": {},
     "output_type": "execute_result"
    }
   ],
   "source": [
    "# 모델 새로 정의\n",
    "model_hybrid = LightFM(loss ='logistic')\n",
    "\n",
    "# hybrid 모델 학습\n",
    "model_hybrid.fit(data['train'],\n",
    "                 user_features=user_features,\n",
    "                 item_features=data['item_features'],\n",
    "                 epochs=20,\n",
    "                 num_threads=2)"
   ]
  },
  {
   "cell_type": "markdown",
   "metadata": {},
   "source": [
    "#### 2-4. 추천 함수 수정 (user_features, item_features 포함)"
   ]
  },
  {
   "cell_type": "code",
   "execution_count": 57,
   "metadata": {},
   "outputs": [],
   "source": [
    "def recommend_hybrid(model, user_id, num_items=5):\n",
    "    n_items = data['train'].shape[1]\n",
    "    scores = model.predict(user_id, np.arange(n_items),\n",
    "                           user_features=user_features,\n",
    "                           item_features=data['item_features'])\n",
    "    top_items = np.argsort(-scores)[:num_items]\n",
    "    return [data['item_labels'][i] for i in top_items]"
   ]
  },
  {
   "cell_type": "markdown",
   "metadata": {},
   "source": [
    "#### 2-5. 추천 결과 보기"
   ]
  },
  {
   "cell_type": "code",
   "execution_count": 58,
   "metadata": {},
   "outputs": [
    {
     "name": "stdout",
     "output_type": "stream",
     "text": [
      " Hybrid 모델 - 사용자 3에게 추천하는 영화:\n",
      "1. Empire Strikes Back, The (1980)\n",
      "2. From Dusk Till Dawn (1996)\n",
      "3. Army of Darkness (1993)\n",
      "4. Muppet Treasure Island (1996)\n",
      "5. Diva (1981)\n"
     ]
    }
   ],
   "source": [
    "user_id = 3\n",
    "recommended = recommend_hybrid(model_hybrid, user_id)\n",
    "\n",
    "print(f\" Hybrid 모델 - 사용자 {user_id}에게 추천하는 영화:\")\n",
    "for i, movie in enumerate(recommended, 1):\n",
    "    print(f\"{i}. {movie}\")"
   ]
  },
  {
   "cell_type": "markdown",
   "metadata": {},
   "source": [
    "### 3. 모델 평가하기"
   ]
  },
  {
   "cell_type": "code",
   "execution_count": 59,
   "metadata": {},
   "outputs": [
    {
     "name": "stdout",
     "output_type": "stream",
     "text": [
      "Precision@5 : 0.0897\n",
      "AUC Score : 0.8435\n"
     ]
    }
   ],
   "source": [
    "from lightfm.evaluation import precision_at_k, auc_score\n",
    "\n",
    "# Collaborative 모델 평가 (기본 모델)\n",
    "precision = precision_at_k(model, data['test'], k=5).mean()\n",
    "auc = auc_score(model, data['test']).mean()\n",
    "\n",
    "print(f\"Precision@5 : {precision:.4f}\")\n",
    "print(f\"AUC Score : {auc:.4f}\")"
   ]
  },
  {
   "cell_type": "code",
   "execution_count": 60,
   "metadata": {},
   "outputs": [
    {
     "name": "stdout",
     "output_type": "stream",
     "text": [
      "Precision@5 : 0.0123\n",
      "AUC Score : 0.6007\n"
     ]
    }
   ],
   "source": [
    "# Hybrid 모델 평가 (user/item features 사용한 모델)\n",
    "precision_h = precision_at_k(model_hybrid,\n",
    "                             data['test'],\n",
    "                             user_features=user_features,\n",
    "                             item_features=data['item_features'],\n",
    "                             k=5).mean()\n",
    "auc_h = auc_score(model_hybrid,\n",
    "                data['test'],\n",
    "                user_features=user_features,\n",
    "                item_features=data['item_features']).mean()\n",
    "\n",
    "print(f\"Precision@5 : {precision_h:.4f}\")\n",
    "print(f\"AUC Score : {auc_h:.4f}\")"
   ]
  }
 ],
 "metadata": {
  "kernelspec": {
   "display_name": "lightfm-env",
   "language": "python",
   "name": "python3"
  },
  "language_info": {
   "codemirror_mode": {
    "name": "ipython",
    "version": 3
   },
   "file_extension": ".py",
   "mimetype": "text/x-python",
   "name": "python",
   "nbconvert_exporter": "python",
   "pygments_lexer": "ipython3",
   "version": "3.9.21"
  }
 },
 "nbformat": 4,
 "nbformat_minor": 2
}
